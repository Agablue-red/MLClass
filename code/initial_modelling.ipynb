{
 "cells": [
  {
   "cell_type": "markdown",
   "id": "8f5d065a",
   "metadata": {},
   "source": [
    "#  Linear Regression"
   ]
  },
  {
   "cell_type": "markdown",
   "id": "bae102ff",
   "metadata": {},
   "source": [
    "### Import libraries"
   ]
  },
  {
   "cell_type": "code",
   "execution_count": 1,
   "id": "191be7bc",
   "metadata": {},
   "outputs": [],
   "source": [
    "import pandas as pd\n",
    "import numpy as np\n",
    "from datetime import datetime\n",
    "import matplotlib.pyplot as plt\n",
    "\n",
    "from sklearn.dummy import DummyRegressor\n",
    "from sklearn.linear_model import LinearRegression\n",
    "from sklearn.metrics import mean_squared_error, r2_score, median_absolute_error\n",
    "from sklearn import metrics"
   ]
  },
  {
   "cell_type": "markdown",
   "id": "38f6ae39",
   "metadata": {},
   "source": [
    "### Upload data"
   ]
  },
  {
   "cell_type": "code",
   "execution_count": 2,
   "id": "093aa8dc",
   "metadata": {},
   "outputs": [],
   "source": [
    "url = \"https://raw.githubusercontent.com/Agablue-red/Machine-Learning/master/data/data_rate.csv\"\n",
    "data = pd.read_csv(url, index_col=0)"
   ]
  },
  {
   "cell_type": "code",
   "execution_count": 3,
   "id": "bc725750",
   "metadata": {},
   "outputs": [
    {
     "data": {
      "text/html": [
       "<div>\n",
       "<style scoped>\n",
       "    .dataframe tbody tr th:only-of-type {\n",
       "        vertical-align: middle;\n",
       "    }\n",
       "\n",
       "    .dataframe tbody tr th {\n",
       "        vertical-align: top;\n",
       "    }\n",
       "\n",
       "    .dataframe thead th {\n",
       "        text-align: right;\n",
       "    }\n",
       "</style>\n",
       "<table border=\"1\" class=\"dataframe\">\n",
       "  <thead>\n",
       "    <tr style=\"text-align: right;\">\n",
       "      <th></th>\n",
       "      <th>symbol</th>\n",
       "      <th>sector</th>\n",
       "      <th>score</th>\n",
       "      <th>Date</th>\n",
       "      <th>return_rate</th>\n",
       "      <th>close</th>\n",
       "    </tr>\n",
       "  </thead>\n",
       "  <tbody>\n",
       "    <tr>\n",
       "      <th>65</th>\n",
       "      <td>AEE</td>\n",
       "      <td>Utilities</td>\n",
       "      <td>0.670127</td>\n",
       "      <td>2004-02-11</td>\n",
       "      <td>0.002350</td>\n",
       "      <td>70.309999</td>\n",
       "    </tr>\n",
       "    <tr>\n",
       "      <th>40</th>\n",
       "      <td>AOS</td>\n",
       "      <td>Producer Manufacturing</td>\n",
       "      <td>0.753176</td>\n",
       "      <td>2004-02-11</td>\n",
       "      <td>0.007533</td>\n",
       "      <td>8.005000</td>\n",
       "    </tr>\n",
       "    <tr>\n",
       "      <th>5</th>\n",
       "      <td>APA</td>\n",
       "      <td>Energy Minerals</td>\n",
       "      <td>0.912117</td>\n",
       "      <td>2004-02-11</td>\n",
       "      <td>0.005808</td>\n",
       "      <td>59.630001</td>\n",
       "    </tr>\n",
       "    <tr>\n",
       "      <th>66</th>\n",
       "      <td>ARLP</td>\n",
       "      <td>Energy Minerals</td>\n",
       "      <td>0.669621</td>\n",
       "      <td>2004-02-11</td>\n",
       "      <td>-0.011510</td>\n",
       "      <td>13.578750</td>\n",
       "    </tr>\n",
       "    <tr>\n",
       "      <th>63</th>\n",
       "      <td>ATO</td>\n",
       "      <td>Utilities</td>\n",
       "      <td>0.672410</td>\n",
       "      <td>2004-02-11</td>\n",
       "      <td>0.000765</td>\n",
       "      <td>39.230000</td>\n",
       "    </tr>\n",
       "  </tbody>\n",
       "</table>\n",
       "</div>"
      ],
      "text/plain": [
       "   symbol                  sector     score        Date  return_rate  \\\n",
       "65    AEE               Utilities  0.670127  2004-02-11     0.002350   \n",
       "40    AOS  Producer Manufacturing  0.753176  2004-02-11     0.007533   \n",
       "5     APA         Energy Minerals  0.912117  2004-02-11     0.005808   \n",
       "66   ARLP         Energy Minerals  0.669621  2004-02-11    -0.011510   \n",
       "63    ATO               Utilities  0.672410  2004-02-11     0.000765   \n",
       "\n",
       "        close  \n",
       "65  70.309999  \n",
       "40   8.005000  \n",
       "5   59.630001  \n",
       "66  13.578750  \n",
       "63  39.230000  "
      ]
     },
     "execution_count": 3,
     "metadata": {},
     "output_type": "execute_result"
    }
   ],
   "source": [
    "data.head()"
   ]
  },
  {
   "cell_type": "markdown",
   "id": "bb623ec9",
   "metadata": {},
   "source": [
    "### Information about dataset"
   ]
  },
  {
   "cell_type": "markdown",
   "id": "3ee5324b",
   "metadata": {},
   "source": [
    "Data types:"
   ]
  },
  {
   "cell_type": "code",
   "execution_count": 4,
   "id": "81d05afc",
   "metadata": {},
   "outputs": [
    {
     "name": "stdout",
     "output_type": "stream",
     "text": [
      "<class 'pandas.core.frame.DataFrame'>\n",
      "Int64Index: 30324 entries, 65 to 37350\n",
      "Data columns (total 6 columns):\n",
      " #   Column       Non-Null Count  Dtype  \n",
      "---  ------       --------------  -----  \n",
      " 0   symbol       30324 non-null  object \n",
      " 1   sector       30324 non-null  object \n",
      " 2   score        30324 non-null  float64\n",
      " 3   Date         30324 non-null  object \n",
      " 4   return_rate  30324 non-null  float64\n",
      " 5   close        30324 non-null  float64\n",
      "dtypes: float64(3), object(3)\n",
      "memory usage: 1.6+ MB\n"
     ]
    }
   ],
   "source": [
    "data.info()"
   ]
  },
  {
   "cell_type": "markdown",
   "id": "7af9e211",
   "metadata": {},
   "source": [
    "Changing the type of 'date' variable:"
   ]
  },
  {
   "cell_type": "code",
   "execution_count": 5,
   "id": "c41e3051",
   "metadata": {},
   "outputs": [],
   "source": [
    "data[\"Date\"] = pd.to_datetime(data[\"Date\"])\n",
    "data = data.set_index('Date')\n",
    "data.sort_index(inplace=True)"
   ]
  },
  {
   "cell_type": "code",
   "execution_count": 6,
   "id": "89cb5d79",
   "metadata": {},
   "outputs": [
    {
     "data": {
      "text/html": [
       "<div>\n",
       "<style scoped>\n",
       "    .dataframe tbody tr th:only-of-type {\n",
       "        vertical-align: middle;\n",
       "    }\n",
       "\n",
       "    .dataframe tbody tr th {\n",
       "        vertical-align: top;\n",
       "    }\n",
       "\n",
       "    .dataframe thead th {\n",
       "        text-align: right;\n",
       "    }\n",
       "</style>\n",
       "<table border=\"1\" class=\"dataframe\">\n",
       "  <thead>\n",
       "    <tr style=\"text-align: right;\">\n",
       "      <th></th>\n",
       "      <th>symbol</th>\n",
       "      <th>sector</th>\n",
       "      <th>score</th>\n",
       "      <th>return_rate</th>\n",
       "      <th>close</th>\n",
       "    </tr>\n",
       "    <tr>\n",
       "      <th>Date</th>\n",
       "      <th></th>\n",
       "      <th></th>\n",
       "      <th></th>\n",
       "      <th></th>\n",
       "      <th></th>\n",
       "    </tr>\n",
       "  </thead>\n",
       "  <tbody>\n",
       "    <tr>\n",
       "      <th>2004-02-11</th>\n",
       "      <td>AEE</td>\n",
       "      <td>Utilities</td>\n",
       "      <td>0.670127</td>\n",
       "      <td>0.002350</td>\n",
       "      <td>70.309999</td>\n",
       "    </tr>\n",
       "    <tr>\n",
       "      <th>2004-02-11</th>\n",
       "      <td>AOS</td>\n",
       "      <td>Producer Manufacturing</td>\n",
       "      <td>0.753176</td>\n",
       "      <td>0.007533</td>\n",
       "      <td>8.005000</td>\n",
       "    </tr>\n",
       "    <tr>\n",
       "      <th>2004-02-11</th>\n",
       "      <td>APA</td>\n",
       "      <td>Energy Minerals</td>\n",
       "      <td>0.912117</td>\n",
       "      <td>0.005808</td>\n",
       "      <td>59.630001</td>\n",
       "    </tr>\n",
       "    <tr>\n",
       "      <th>2004-02-11</th>\n",
       "      <td>ARLP</td>\n",
       "      <td>Energy Minerals</td>\n",
       "      <td>0.669621</td>\n",
       "      <td>-0.011510</td>\n",
       "      <td>13.578750</td>\n",
       "    </tr>\n",
       "    <tr>\n",
       "      <th>2004-02-11</th>\n",
       "      <td>ATO</td>\n",
       "      <td>Utilities</td>\n",
       "      <td>0.672410</td>\n",
       "      <td>0.000765</td>\n",
       "      <td>39.230000</td>\n",
       "    </tr>\n",
       "  </tbody>\n",
       "</table>\n",
       "</div>"
      ],
      "text/plain": [
       "           symbol                  sector     score  return_rate      close\n",
       "Date                                                                       \n",
       "2004-02-11    AEE               Utilities  0.670127     0.002350  70.309999\n",
       "2004-02-11    AOS  Producer Manufacturing  0.753176     0.007533   8.005000\n",
       "2004-02-11    APA         Energy Minerals  0.912117     0.005808  59.630001\n",
       "2004-02-11   ARLP         Energy Minerals  0.669621    -0.011510  13.578750\n",
       "2004-02-11    ATO               Utilities  0.672410     0.000765  39.230000"
      ]
     },
     "execution_count": 6,
     "metadata": {},
     "output_type": "execute_result"
    }
   ],
   "source": [
    "data.head()"
   ]
  },
  {
   "cell_type": "markdown",
   "id": "f25c8a5c",
   "metadata": {},
   "source": [
    "#### Fundamental statistics on numeric variables"
   ]
  },
  {
   "cell_type": "code",
   "execution_count": 7,
   "id": "8a33f97a",
   "metadata": {},
   "outputs": [
    {
     "data": {
      "text/html": [
       "<div>\n",
       "<style scoped>\n",
       "    .dataframe tbody tr th:only-of-type {\n",
       "        vertical-align: middle;\n",
       "    }\n",
       "\n",
       "    .dataframe tbody tr th {\n",
       "        vertical-align: top;\n",
       "    }\n",
       "\n",
       "    .dataframe thead th {\n",
       "        text-align: right;\n",
       "    }\n",
       "</style>\n",
       "<table border=\"1\" class=\"dataframe\">\n",
       "  <thead>\n",
       "    <tr style=\"text-align: right;\">\n",
       "      <th></th>\n",
       "      <th>score</th>\n",
       "      <th>return_rate</th>\n",
       "      <th>close</th>\n",
       "    </tr>\n",
       "  </thead>\n",
       "  <tbody>\n",
       "    <tr>\n",
       "      <th>count</th>\n",
       "      <td>30324.000000</td>\n",
       "      <td>30324.000000</td>\n",
       "      <td>30324.000000</td>\n",
       "    </tr>\n",
       "    <tr>\n",
       "      <th>mean</th>\n",
       "      <td>0.731377</td>\n",
       "      <td>0.008940</td>\n",
       "      <td>199.862674</td>\n",
       "    </tr>\n",
       "    <tr>\n",
       "      <th>std</th>\n",
       "      <td>0.117693</td>\n",
       "      <td>0.152564</td>\n",
       "      <td>5225.047203</td>\n",
       "    </tr>\n",
       "    <tr>\n",
       "      <th>min</th>\n",
       "      <td>0.413554</td>\n",
       "      <td>-0.507207</td>\n",
       "      <td>0.030000</td>\n",
       "    </tr>\n",
       "    <tr>\n",
       "      <th>25%</th>\n",
       "      <td>0.653702</td>\n",
       "      <td>-0.018704</td>\n",
       "      <td>51.757969</td>\n",
       "    </tr>\n",
       "    <tr>\n",
       "      <th>50%</th>\n",
       "      <td>0.741667</td>\n",
       "      <td>0.007707</td>\n",
       "      <td>89.154999</td>\n",
       "    </tr>\n",
       "    <tr>\n",
       "      <th>75%</th>\n",
       "      <td>0.813701</td>\n",
       "      <td>0.034849</td>\n",
       "      <td>148.037234</td>\n",
       "    </tr>\n",
       "    <tr>\n",
       "      <th>max</th>\n",
       "      <td>0.987225</td>\n",
       "      <td>24.600929</td>\n",
       "      <td>898434.375000</td>\n",
       "    </tr>\n",
       "  </tbody>\n",
       "</table>\n",
       "</div>"
      ],
      "text/plain": [
       "              score   return_rate          close\n",
       "count  30324.000000  30324.000000   30324.000000\n",
       "mean       0.731377      0.008940     199.862674\n",
       "std        0.117693      0.152564    5225.047203\n",
       "min        0.413554     -0.507207       0.030000\n",
       "25%        0.653702     -0.018704      51.757969\n",
       "50%        0.741667      0.007707      89.154999\n",
       "75%        0.813701      0.034849     148.037234\n",
       "max        0.987225     24.600929  898434.375000"
      ]
     },
     "execution_count": 7,
     "metadata": {},
     "output_type": "execute_result"
    }
   ],
   "source": [
    "data.describe()"
   ]
  },
  {
   "cell_type": "markdown",
   "id": "b39caceb",
   "metadata": {},
   "source": [
    "There are in total 30 324 observations. The mean score for this dataset is 0,73, while mean return rate is 0,009 and mean closing price is 199.86."
   ]
  },
  {
   "cell_type": "code",
   "execution_count": 8,
   "id": "81767124",
   "metadata": {},
   "outputs": [
    {
     "data": {
      "text/plain": [
       "SHW      170\n",
       "GEF      140\n",
       "ORLY     138\n",
       "GPC      122\n",
       "INGR     122\n",
       "        ... \n",
       "H          1\n",
       "PRMW       1\n",
       "CWYUF      1\n",
       "ULH        1\n",
       "POST       1\n",
       "Name: symbol, Length: 1322, dtype: int64"
      ]
     },
     "execution_count": 8,
     "metadata": {},
     "output_type": "execute_result"
    }
   ],
   "source": [
    "data.symbol.value_counts()"
   ]
  },
  {
   "cell_type": "markdown",
   "id": "20a81523",
   "metadata": {},
   "source": [
    "There are 1322 companies in total, some of them occur only once in the time series and some even over 100 times. "
   ]
  },
  {
   "cell_type": "markdown",
   "id": "c156c548",
   "metadata": {},
   "source": [
    "### Splitting the data into training and test sets"
   ]
  },
  {
   "cell_type": "markdown",
   "id": "bf575b7e",
   "metadata": {},
   "source": [
    "Training set involves data from 2010 to 2020 and test set includes the year 2021.\n"
   ]
  },
  {
   "cell_type": "code",
   "execution_count": 9,
   "id": "b51c51f3",
   "metadata": {},
   "outputs": [],
   "source": [
    "X_train = data['2010':'2020'].drop(['symbol','return_rate','sector','close'], axis = 1)\n",
    "y_train = data.loc['2010':'2020', 'return_rate']\n",
    "\n",
    "X_test = data['2021':'2022'].drop(['symbol','return_rate','sector','close'], axis = 1)\n",
    "y_test = data.loc['2021':'2022', 'return_rate']"
   ]
  },
  {
   "cell_type": "code",
   "execution_count": 10,
   "id": "a6e13067",
   "metadata": {},
   "outputs": [
    {
     "data": {
      "text/plain": [
       "[<matplotlib.lines.Line2D at 0x16a02116670>]"
      ]
     },
     "execution_count": 10,
     "metadata": {},
     "output_type": "execute_result"
    },
    {
     "data": {
      "image/png": "[encoded data removed]",
      "text/plain": [
       "<Figure size 864x432 with 1 Axes>"
      ]
     },
     "metadata": {
      "needs_background": "light"
     },
     "output_type": "display_data"
    }
   ],
   "source": [
    "fig, ax=plt.subplots(figsize=(12, 6))\n",
    "\n",
    "plt.plot(y_train, color = \"black\")\n",
    "plt.plot(y_test, color = \"red\")"
   ]
  },
  {
   "cell_type": "code",
   "execution_count": 11,
   "id": "5ea82cab",
   "metadata": {},
   "outputs": [
    {
     "name": "stdout",
     "output_type": "stream",
     "text": [
      "Number transactions X_train dataset:  (19568, 1)\n",
      "Number transactions y_train dataset:  (19568,)\n",
      "Number transactions X_test dataset:  (2281, 1)\n",
      "Number transactions y_test dataset:  (2281,)\n"
     ]
    }
   ],
   "source": [
    "print(\"Number transactions X_train dataset: \", X_train.shape)\n",
    "print(\"Number transactions y_train dataset: \", y_train.shape)\n",
    "print(\"Number transactions X_test dataset: \", X_test.shape)\n",
    "print(\"Number transactions y_test dataset: \", y_test.shape)"
   ]
  },
  {
   "cell_type": "markdown",
   "id": "e36d3cb6",
   "metadata": {},
   "source": [
    "### Dummy regression"
   ]
  },
  {
   "cell_type": "code",
   "execution_count": 12,
   "id": "f444b71d",
   "metadata": {},
   "outputs": [
    {
     "name": "stdout",
     "output_type": "stream",
     "text": [
      "Coefficient of determination: 0.0\n"
     ]
    }
   ],
   "source": [
    "# train model\n",
    "reg_dummy = DummyRegressor(strategy = 'mean').fit(X_train, y_train) \n",
    "\n",
    "print('Coefficient of determination:', reg_dummy.score(X_train, y_train))"
   ]
  },
  {
   "cell_type": "markdown",
   "id": "af06db64",
   "metadata": {},
   "source": [
    "0% indicates thet the model does not fit the training data."
   ]
  },
  {
   "cell_type": "code",
   "execution_count": 13,
   "id": "08509c42",
   "metadata": {},
   "outputs": [
    {
     "name": "stdout",
     "output_type": "stream",
     "text": [
      "Coefficient of determination (R2): -0.00021\n",
      "Mean absolute error (MAE): 0.04415\n",
      "Residual sum of squares (MSE): 0.00348\n",
      "Root mean squared error (RMSE): 0.05903\n"
     ]
    }
   ],
   "source": [
    "# predict & evaluate\n",
    "y_pred_dum = reg_dummy.predict(X_test)\n",
    "\n",
    "print(\"Coefficient of determination (R2): %.5f\" % r2_score(y_test , y_pred_dum) )\n",
    "print(\"Mean absolute error (MAE): %.5f\" % np.mean(np.absolute(y_pred_dum - y_test)))\n",
    "print(\"Residual sum of squares (MSE): %.5f\" % mean_squared_error(y_test, y_pred_dum))\n",
    "print(\"Root mean squared error (RMSE): %.5f\" % np.sqrt(metrics.mean_squared_error(y_test, y_pred_dum)))"
   ]
  },
  {
   "cell_type": "markdown",
   "id": "dd681370",
   "metadata": {},
   "source": [
    "### Linear regression"
   ]
  },
  {
   "cell_type": "code",
   "execution_count": 14,
   "id": "f990dccb",
   "metadata": {},
   "outputs": [
    {
     "name": "stdout",
     "output_type": "stream",
     "text": [
      "Coefficient of determination: 0.001\n",
      "Intercept: 0.019\n",
      "Slope: [-0.01473271]\n"
     ]
    }
   ],
   "source": [
    "# train model\n",
    "lm = LinearRegression().fit(X_train, y_train)\n",
    "\n",
    "print('Coefficient of determination:', round(lm.score(X_train, y_train),3))\n",
    "print('Intercept:', round(lm.intercept_,3))\n",
    "print('Slope:', lm.coef_)"
   ]
  },
  {
   "cell_type": "markdown",
   "id": "006e813f",
   "metadata": {},
   "source": [
    "f(x) = b₁x + b₀\n",
    "\n",
    "f(x) = -0.015x + 0.019\n",
    "\n",
    "𝑅² = 0.001\n",
    "\n",
    "~1% indicates thet the model does not fit the training data."
   ]
  },
  {
   "cell_type": "markdown",
   "id": "0192f8b1",
   "metadata": {},
   "source": [
    "**Measure of fit a model**"
   ]
  },
  {
   "cell_type": "code",
   "execution_count": 15,
   "id": "9921950c",
   "metadata": {},
   "outputs": [
    {
     "name": "stdout",
     "output_type": "stream",
     "text": [
      "predicted response:\n",
      "[0.0102615  0.01015033 0.01034015 ... 0.00492247 0.00842538 0.00830968]\n",
      "Coefficient of determination (R2): -0.00067\n",
      "Mean absolute error (MAE): 0.04414\n",
      "Residual sum of squares (MSE): 0.00349\n",
      "Root mean squared error (RMSE): 0.05904\n"
     ]
    }
   ],
   "source": [
    "# predict & evaluate\n",
    "y_pred = lm.predict(X_test)\n",
    "\n",
    "print('predicted response:', y_pred, sep='\\n')\n",
    "\n",
    "print(\"Coefficient of determination (R2): %.5f\" % r2_score(y_test , y_pred) )\n",
    "print(\"Mean absolute error (MAE): %.5f\" % np.mean(np.absolute(y_pred - y_test)))\n",
    "print(\"Residual sum of squares (MSE): %.5f\" % mean_squared_error(y_test, y_pred))\n",
    "print(\"Root mean squared error (RMSE): %.5f\" % np.sqrt(metrics.mean_squared_error(y_test, y_pred)))"
   ]
  },
  {
   "cell_type": "markdown",
   "id": "1dddff04",
   "metadata": {},
   "source": [
    "Adjusted R squared  is adjusted for the number of independent variables in the model and equal -0.00067 (adjusted  R² will always be less than or equal to R²).\n",
    "\n",
    "The average of the residuals equal 0.04414.\n",
    "\n",
    "The variance of the residuals equal 0.00349.\n",
    "\n",
    "The standard deviation of residuals equal 0.05904."
   ]
  },
  {
   "cell_type": "markdown",
   "id": "ef559d04",
   "metadata": {},
   "source": [
    "### Comparison between dummy regression and linear regression combinaed with observations from the test set."
   ]
  },
  {
   "cell_type": "code",
   "execution_count": 16,
   "id": "c5393d44",
   "metadata": {},
   "outputs": [
    {
     "data": {
      "text/plain": [
       "<matplotlib.legend.Legend at 0x16a022604c0>"
      ]
     },
     "execution_count": 16,
     "metadata": {},
     "output_type": "execute_result"
    },
    {
     "data": {
      "image/png": "[encoded data removed]",
      "text/plain": [
       "<Figure size 1080x360 with 1 Axes>"
      ]
     },
     "metadata": {
      "needs_background": "light"
     },
     "output_type": "display_data"
    }
   ],
   "source": [
    "fig, ax=plt.subplots(figsize=(15, 5))\n",
    "\n",
    "plt.scatter(X_test, y_test,  color='black')\n",
    "plt.plot(X_test, y_pred, color='red', linewidth=3, label='Linear regression')\n",
    "plt.plot(X_test, y_pred_dum, color='blue', linestyle = 'dashed', linewidth=2, label = 'Dummy regression')\n",
    "ax.legend()"
   ]
  },
  {
   "cell_type": "markdown",
   "id": "becfcf06",
   "metadata": {},
   "source": [
    "Model does not explain any of the variation in the response variable around its mean.\n",
    "\n",
    "Linear regression is marginally better than dummy regression.\n",
    "\n",
    "Both models do not fit the variables."
   ]
  }
 ],
 "metadata": {
  "kernelspec": {
   "display_name": "Python 3",
   "language": "python",
   "name": "python3"
  },
  "language_info": {
   "codemirror_mode": {
    "name": "ipython",
    "version": 3
   },
   "file_extension": ".py",
   "mimetype": "text/x-python",
   "name": "python",
   "nbconvert_exporter": "python",
   "pygments_lexer": "ipython3",
   "version": "3.8.8"
  }
 },
 "nbformat": 4,
 "nbformat_minor": 5
}
