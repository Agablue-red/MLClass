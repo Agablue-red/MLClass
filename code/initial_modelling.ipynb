{
 "cells": [
  {
   "cell_type": "markdown",
   "id": "8f5d065a",
   "metadata": {},
   "source": [
    "#  Linear Regression"
   ]
  },
  {
   "cell_type": "markdown",
   "id": "bae102ff",
   "metadata": {},
   "source": [
    "### Importing libraries"
   ]
  },
  {
   "cell_type": "code",
   "execution_count": 11,
   "id": "191be7bc",
   "metadata": {},
   "outputs": [],
   "source": [
    "import pandas as pd\n",
    "import numpy as np\n",
    "from datetime import datetime\n",
    "import matplotlib.pyplot as plt\n",
    "from sklearn.linear_model import LinearRegression\n",
    "from sklearn.metrics import mean_squared_error, r2_score, median_absolute_error\n",
    "import sklearn.metrics as metrics"
   ]
  },
  {
   "cell_type": "markdown",
   "id": "38f6ae39",
   "metadata": {},
   "source": [
    "### Uploading data"
   ]
  },
  {
   "cell_type": "code",
   "execution_count": 2,
   "id": "093aa8dc",
   "metadata": {},
   "outputs": [],
   "source": [
    "url = \"https://raw.githubusercontent.com/Agablue-red/Machine-Learning/master/data/data_rate.csv\"\n",
    "data = pd.read_csv(url)"
   ]
  },
  {
   "cell_type": "code",
   "execution_count": 3,
   "id": "bc725750",
   "metadata": {},
   "outputs": [
    {
     "data": {
      "text/html": [
       "<div>\n",
       "<style scoped>\n",
       "    .dataframe tbody tr th:only-of-type {\n",
       "        vertical-align: middle;\n",
       "    }\n",
       "\n",
       "    .dataframe tbody tr th {\n",
       "        vertical-align: top;\n",
       "    }\n",
       "\n",
       "    .dataframe thead th {\n",
       "        text-align: right;\n",
       "    }\n",
       "</style>\n",
       "<table border=\"1\" class=\"dataframe\">\n",
       "  <thead>\n",
       "    <tr style=\"text-align: right;\">\n",
       "      <th></th>\n",
       "      <th>symbol</th>\n",
       "      <th>score</th>\n",
       "      <th>Date</th>\n",
       "      <th>log_rate</th>\n",
       "    </tr>\n",
       "  </thead>\n",
       "  <tbody>\n",
       "    <tr>\n",
       "      <th>0</th>\n",
       "      <td>A</td>\n",
       "      <td>0.572765</td>\n",
       "      <td>2008-07-02</td>\n",
       "      <td>-0.063982</td>\n",
       "    </tr>\n",
       "    <tr>\n",
       "      <th>1</th>\n",
       "      <td>A</td>\n",
       "      <td>0.576979</td>\n",
       "      <td>2008-07-16</td>\n",
       "      <td>0.016846</td>\n",
       "    </tr>\n",
       "    <tr>\n",
       "      <th>2</th>\n",
       "      <td>A</td>\n",
       "      <td>0.579936</td>\n",
       "      <td>2008-07-30</td>\n",
       "      <td>0.019815</td>\n",
       "    </tr>\n",
       "    <tr>\n",
       "      <th>3</th>\n",
       "      <td>A</td>\n",
       "      <td>0.569940</td>\n",
       "      <td>2008-08-13</td>\n",
       "      <td>-0.019493</td>\n",
       "    </tr>\n",
       "    <tr>\n",
       "      <th>4</th>\n",
       "      <td>A</td>\n",
       "      <td>0.550504</td>\n",
       "      <td>2016-07-13</td>\n",
       "      <td>0.042472</td>\n",
       "    </tr>\n",
       "  </tbody>\n",
       "</table>\n",
       "</div>"
      ],
      "text/plain": [
       "  symbol     score        Date  log_rate\n",
       "0      A  0.572765  2008-07-02 -0.063982\n",
       "1      A  0.576979  2008-07-16  0.016846\n",
       "2      A  0.579936  2008-07-30  0.019815\n",
       "3      A  0.569940  2008-08-13 -0.019493\n",
       "4      A  0.550504  2016-07-13  0.042472"
      ]
     },
     "execution_count": 3,
     "metadata": {},
     "output_type": "execute_result"
    }
   ],
   "source": [
    "data.head()"
   ]
  },
  {
   "cell_type": "markdown",
   "id": "bb623ec9",
   "metadata": {},
   "source": [
    "### Information about dataset"
   ]
  },
  {
   "cell_type": "markdown",
   "id": "3ee5324b",
   "metadata": {},
   "source": [
    "Data types:"
   ]
  },
  {
   "cell_type": "code",
   "execution_count": 5,
   "id": "81d05afc",
   "metadata": {},
   "outputs": [
    {
     "name": "stdout",
     "output_type": "stream",
     "text": [
      "<class 'pandas.core.frame.DataFrame'>\n",
      "RangeIndex: 29996 entries, 0 to 29995\n",
      "Data columns (total 4 columns):\n",
      " #   Column    Non-Null Count  Dtype  \n",
      "---  ------    --------------  -----  \n",
      " 0   symbol    29996 non-null  object \n",
      " 1   score     29996 non-null  float64\n",
      " 2   Date      29996 non-null  object \n",
      " 3   log_rate  29996 non-null  float64\n",
      "dtypes: float64(2), object(2)\n",
      "memory usage: 937.5+ KB\n"
     ]
    }
   ],
   "source": [
    "data.info()"
   ]
  },
  {
   "cell_type": "markdown",
   "id": "7af9e211",
   "metadata": {},
   "source": [
    "Changing the type of 'date' variable:"
   ]
  },
  {
   "cell_type": "code",
   "execution_count": 39,
   "id": "c41e3051",
   "metadata": {},
   "outputs": [],
   "source": [
    "data[\"Date\"] = pd.to_datetime(data[\"Date\"])\n",
    "data = data.set_index('Date')\n",
    "data.sort_index(inplace=True)"
   ]
  },
  {
   "cell_type": "code",
   "execution_count": 40,
   "id": "89cb5d79",
   "metadata": {},
   "outputs": [
    {
     "data": {
      "text/html": [
       "<div>\n",
       "<style scoped>\n",
       "    .dataframe tbody tr th:only-of-type {\n",
       "        vertical-align: middle;\n",
       "    }\n",
       "\n",
       "    .dataframe tbody tr th {\n",
       "        vertical-align: top;\n",
       "    }\n",
       "\n",
       "    .dataframe thead th {\n",
       "        text-align: right;\n",
       "    }\n",
       "</style>\n",
       "<table border=\"1\" class=\"dataframe\">\n",
       "  <thead>\n",
       "    <tr style=\"text-align: right;\">\n",
       "      <th></th>\n",
       "      <th>symbol</th>\n",
       "      <th>score</th>\n",
       "      <th>log_rate</th>\n",
       "    </tr>\n",
       "    <tr>\n",
       "      <th>Date</th>\n",
       "      <th></th>\n",
       "      <th></th>\n",
       "      <th></th>\n",
       "    </tr>\n",
       "  </thead>\n",
       "  <tbody>\n",
       "    <tr>\n",
       "      <th>2004-02-11</th>\n",
       "      <td>FCFS</td>\n",
       "      <td>0.686924</td>\n",
       "      <td>0.049570</td>\n",
       "    </tr>\n",
       "    <tr>\n",
       "      <th>2004-02-11</th>\n",
       "      <td>RCI</td>\n",
       "      <td>0.757159</td>\n",
       "      <td>0.003422</td>\n",
       "    </tr>\n",
       "    <tr>\n",
       "      <th>2004-02-11</th>\n",
       "      <td>ESE</td>\n",
       "      <td>0.747727</td>\n",
       "      <td>0.005126</td>\n",
       "    </tr>\n",
       "    <tr>\n",
       "      <th>2004-02-11</th>\n",
       "      <td>NL</td>\n",
       "      <td>0.709419</td>\n",
       "      <td>0.017833</td>\n",
       "    </tr>\n",
       "    <tr>\n",
       "      <th>2004-02-11</th>\n",
       "      <td>KSWS</td>\n",
       "      <td>0.826617</td>\n",
       "      <td>-0.020834</td>\n",
       "    </tr>\n",
       "  </tbody>\n",
       "</table>\n",
       "</div>"
      ],
      "text/plain": [
       "           symbol     score  log_rate\n",
       "Date                                 \n",
       "2004-02-11   FCFS  0.686924  0.049570\n",
       "2004-02-11    RCI  0.757159  0.003422\n",
       "2004-02-11    ESE  0.747727  0.005126\n",
       "2004-02-11     NL  0.709419  0.017833\n",
       "2004-02-11   KSWS  0.826617 -0.020834"
      ]
     },
     "execution_count": 40,
     "metadata": {},
     "output_type": "execute_result"
    }
   ],
   "source": [
    "data.head()"
   ]
  },
  {
   "cell_type": "markdown",
   "id": "f25c8a5c",
   "metadata": {},
   "source": [
    "#### Fundamental statistics on numeric variables"
   ]
  },
  {
   "cell_type": "code",
   "execution_count": 8,
   "id": "8a33f97a",
   "metadata": {},
   "outputs": [
    {
     "data": {
      "text/html": [
       "<div>\n",
       "<style scoped>\n",
       "    .dataframe tbody tr th:only-of-type {\n",
       "        vertical-align: middle;\n",
       "    }\n",
       "\n",
       "    .dataframe tbody tr th {\n",
       "        vertical-align: top;\n",
       "    }\n",
       "\n",
       "    .dataframe thead th {\n",
       "        text-align: right;\n",
       "    }\n",
       "</style>\n",
       "<table border=\"1\" class=\"dataframe\">\n",
       "  <thead>\n",
       "    <tr style=\"text-align: right;\">\n",
       "      <th></th>\n",
       "      <th>score</th>\n",
       "      <th>log_rate</th>\n",
       "    </tr>\n",
       "  </thead>\n",
       "  <tbody>\n",
       "    <tr>\n",
       "      <th>count</th>\n",
       "      <td>29996.000000</td>\n",
       "      <td>29996.000000</td>\n",
       "    </tr>\n",
       "    <tr>\n",
       "      <th>mean</th>\n",
       "      <td>0.731574</td>\n",
       "      <td>0.006215</td>\n",
       "    </tr>\n",
       "    <tr>\n",
       "      <th>std</th>\n",
       "      <td>0.117569</td>\n",
       "      <td>0.055155</td>\n",
       "    </tr>\n",
       "    <tr>\n",
       "      <th>min</th>\n",
       "      <td>0.413554</td>\n",
       "      <td>-0.527210</td>\n",
       "    </tr>\n",
       "    <tr>\n",
       "      <th>25%</th>\n",
       "      <td>0.654207</td>\n",
       "      <td>-0.020007</td>\n",
       "    </tr>\n",
       "    <tr>\n",
       "      <th>50%</th>\n",
       "      <td>0.741993</td>\n",
       "      <td>0.007245</td>\n",
       "    </tr>\n",
       "    <tr>\n",
       "      <th>75%</th>\n",
       "      <td>0.813804</td>\n",
       "      <td>0.033962</td>\n",
       "    </tr>\n",
       "    <tr>\n",
       "      <th>max</th>\n",
       "      <td>0.987225</td>\n",
       "      <td>0.916291</td>\n",
       "    </tr>\n",
       "  </tbody>\n",
       "</table>\n",
       "</div>"
      ],
      "text/plain": [
       "              score      log_rate\n",
       "count  29996.000000  29996.000000\n",
       "mean       0.731574      0.006215\n",
       "std        0.117569      0.055155\n",
       "min        0.413554     -0.527210\n",
       "25%        0.654207     -0.020007\n",
       "50%        0.741993      0.007245\n",
       "75%        0.813804      0.033962\n",
       "max        0.987225      0.916291"
      ]
     },
     "execution_count": 8,
     "metadata": {},
     "output_type": "execute_result"
    }
   ],
   "source": [
    "data.describe()"
   ]
  },
  {
   "cell_type": "markdown",
   "id": "b39caceb",
   "metadata": {},
   "source": [
    "There are in total 29 996 observations. The mean score for this dataset is 0,73 and mean return rate is 0,006."
   ]
  },
  {
   "cell_type": "code",
   "execution_count": 9,
   "id": "81767124",
   "metadata": {},
   "outputs": [
    {
     "data": {
      "text/plain": [
       "SHW     170\n",
       "GEF     140\n",
       "ORLY    138\n",
       "INGR    122\n",
       "GPC     122\n",
       "       ... \n",
       "BMI       1\n",
       "BOOT      1\n",
       "POST      1\n",
       "ULH       1\n",
       "HLX       1\n",
       "Name: symbol, Length: 1319, dtype: int64"
      ]
     },
     "execution_count": 9,
     "metadata": {},
     "output_type": "execute_result"
    }
   ],
   "source": [
    "data.symbol.value_counts()"
   ]
  },
  {
   "cell_type": "markdown",
   "id": "20a81523",
   "metadata": {},
   "source": [
    "There are 1319 companies in total, some of them occur only once in the time series and some even over 100 times. "
   ]
  },
  {
   "cell_type": "markdown",
   "id": "c156c548",
   "metadata": {},
   "source": [
    "### Splitting the data into training and test sets"
   ]
  },
  {
   "cell_type": "markdown",
   "id": "bf575b7e",
   "metadata": {},
   "source": [
    "Training set involves data from 2010 to 2020 and test set includes the year 2021.\n"
   ]
  },
  {
   "cell_type": "code",
   "execution_count": 63,
   "id": "b51c51f3",
   "metadata": {},
   "outputs": [],
   "source": [
    "X_train = data['2010':'2020'].drop(['symbol','log_rate'], axis = 1)\n",
    "y_train = data.loc['2010':'2020', 'log_rate']\n",
    "\n",
    "X_test = data['2021':'2022'].drop(['symbol','log_rate'], axis = 1)\n",
    "y_test = data.loc['2021':'2022', 'log_rate']"
   ]
  },
  {
   "cell_type": "code",
   "execution_count": 64,
   "id": "a6e13067",
   "metadata": {},
   "outputs": [
    {
     "data": {
      "text/plain": [
       "[<matplotlib.lines.Line2D at 0x19b387269d0>]"
      ]
     },
     "execution_count": 64,
     "metadata": {},
     "output_type": "execute_result"
    },
    {
     "data": {
      "image/png": "[encoded data removed]",
      "text/plain": [
       "<Figure size 864x432 with 1 Axes>"
      ]
     },
     "metadata": {
      "needs_background": "light"
     },
     "output_type": "display_data"
    }
   ],
   "source": [
    "fig, ax=plt.subplots(figsize=(12, 6))\n",
    "\n",
    "plt.plot(y_train, color = \"black\")\n",
    "plt.plot(y_test, color = \"red\")"
   ]
  },
  {
   "cell_type": "code",
   "execution_count": 65,
   "id": "5ea82cab",
   "metadata": {},
   "outputs": [
    {
     "name": "stdout",
     "output_type": "stream",
     "text": [
      "Number transactions X_train dataset:  (19328, 1)\n",
      "Number transactions y_train dataset:  (19328,)\n",
      "Number transactions X_test dataset:  (2260, 1)\n",
      "Number transactions y_test dataset:  (2260,)\n"
     ]
    }
   ],
   "source": [
    "print(\"Number transactions X_train dataset: \", X_train.shape)\n",
    "print(\"Number transactions y_train dataset: \", y_train.shape)\n",
    "print(\"Number transactions X_test dataset: \", X_test.shape)\n",
    "print(\"Number transactions y_test dataset: \", y_test.shape)"
   ]
  },
  {
   "cell_type": "markdown",
   "id": "e36d3cb6",
   "metadata": {},
   "source": [
    "### Dummy regression"
   ]
  },
  {
   "cell_type": "code",
   "execution_count": 66,
   "id": "3c9d951f",
   "metadata": {},
   "outputs": [],
   "source": [
    "from sklearn.dummy import DummyRegressor"
   ]
  },
  {
   "cell_type": "code",
   "execution_count": 67,
   "id": "f444b71d",
   "metadata": {},
   "outputs": [
    {
     "name": "stdout",
     "output_type": "stream",
     "text": [
      "Coefficient of determination: 0.0\n"
     ]
    }
   ],
   "source": [
    "# train model\n",
    "reg_dummy = DummyRegressor(strategy = 'mean').fit(X_train, y_train) \n",
    "\n",
    "print('Coefficient of determination:', reg_dummy.score(X_train, y_train))"
   ]
  },
  {
   "cell_type": "markdown",
   "id": "af06db64",
   "metadata": {},
   "source": [
    "0% indicates thet the model does not fit the training data."
   ]
  },
  {
   "cell_type": "code",
   "execution_count": 68,
   "id": "08509c42",
   "metadata": {},
   "outputs": [
    {
     "name": "stdout",
     "output_type": "stream",
     "text": [
      "Coefficient of determination (R2): -0.00022\n",
      "Mean absolute error (MAE): 0.04444\n",
      "Residual sum of squares (MSE): 0.00349\n",
      "Root mean squared error (RMSE): 0.05905\n"
     ]
    }
   ],
   "source": [
    "# predict & evaluate\n",
    "y_pred_dum = reg_dummy.predict(X_test)\n",
    "\n",
    "print(\"Coefficient of determination (R2): %.5f\" % r2_score(y_test , y_pred_dum) )\n",
    "print(\"Mean absolute error (MAE): %.5f\" % np.mean(np.absolute(y_pred_dum - y_test)))\n",
    "print(\"Residual sum of squares (MSE): %.5f\" % mean_squared_error(y_test, y_pred_dum))\n",
    "print(\"Root mean squared error (RMSE): %.5f\" % np.sqrt(metrics.mean_squared_error(y_test, y_pred_dum)))"
   ]
  },
  {
   "cell_type": "markdown",
   "id": "dd681370",
   "metadata": {},
   "source": [
    "### Linear regression"
   ]
  },
  {
   "cell_type": "code",
   "execution_count": 69,
   "id": "f990dccb",
   "metadata": {},
   "outputs": [
    {
     "name": "stdout",
     "output_type": "stream",
     "text": [
      "Coefficient of determination: 0.00040496151184277185\n",
      "Intercept: 0.013150793836373038\n",
      "Slope: [-0.00907272]\n"
     ]
    }
   ],
   "source": [
    "from sklearn import metrics\n",
    "\n",
    "# train model\n",
    "lm = LinearRegression().fit(X_train, y_train)\n",
    "\n",
    "print('Coefficient of determination:', lm.score(X_train, y_train))\n",
    "print('Intercept:', lm.intercept_)\n",
    "print('Slope:', lm.coef_)"
   ]
  },
  {
   "cell_type": "markdown",
   "id": "006e813f",
   "metadata": {},
   "source": [
    "f(x) = b₁x + b₀\n",
    "\n",
    "f(x) = -0.009x + 0.013\n",
    "\n",
    "𝑅² = 0.0004\n",
    "\n",
    "0.0004% indicates thet the model does not fit the training data."
   ]
  },
  {
   "cell_type": "markdown",
   "id": "0192f8b1",
   "metadata": {},
   "source": [
    "**Measure of fit a model**"
   ]
  },
  {
   "cell_type": "code",
   "execution_count": 70,
   "id": "9921950c",
   "metadata": {},
   "outputs": [
    {
     "name": "stdout",
     "output_type": "stream",
     "text": [
      "predicted response:\n",
      "[0.00565683 0.0075637  0.0068274  ... 0.00566467 0.00608964 0.00454928]\n",
      "Coefficient of determination (R2): -0.00050\n",
      "Mean absolute error (MAE): 0.04445\n",
      "Residual sum of squares (MSE): 0.00349\n",
      "Root mean squared error (RMSE): 0.05906\n"
     ]
    }
   ],
   "source": [
    "# predict & evaluate\n",
    "y_pred = lm.predict(X_test)\n",
    "\n",
    "print('predicted response:', y_pred, sep='\\n')\n",
    "\n",
    "print(\"Coefficient of determination (R2): %.5f\" % r2_score(y_test , y_pred) )\n",
    "print(\"Mean absolute error (MAE): %.5f\" % np.mean(np.absolute(y_pred - y_test)))\n",
    "print(\"Residual sum of squares (MSE): %.5f\" % mean_squared_error(y_test, y_pred))\n",
    "print(\"Root mean squared error (RMSE): %.5f\" % np.sqrt(metrics.mean_squared_error(y_test, y_pred)))"
   ]
  },
  {
   "cell_type": "markdown",
   "id": "1dddff04",
   "metadata": {},
   "source": [
    "Adjusted R squared  is adjusted for the number of independent variables in the model and equal -0.00050 (adjusted  R² will always be less than or equal to R²).\n",
    "\n",
    "The average of the residuals equal 0.04445.\n",
    "\n",
    "The variance of the residuals equal 0.00349.\n",
    "\n",
    "The standard deviation of residuals equal 0.05906."
   ]
  },
  {
   "cell_type": "markdown",
   "id": "ef559d04",
   "metadata": {},
   "source": [
    "### Comparison between dummy regression and linear regression combinaed with observations from the test set."
   ]
  },
  {
   "cell_type": "code",
   "execution_count": 71,
   "id": "c5393d44",
   "metadata": {},
   "outputs": [
    {
     "data": {
      "text/plain": [
       "<matplotlib.legend.Legend at 0x19b45b79820>"
      ]
     },
     "execution_count": 71,
     "metadata": {},
     "output_type": "execute_result"
    },
    {
     "data": {
      "image/png": "[encoded data removed]",
      "text/plain": [
       "<Figure size 1080x360 with 1 Axes>"
      ]
     },
     "metadata": {
      "needs_background": "light"
     },
     "output_type": "display_data"
    }
   ],
   "source": [
    "fig, ax=plt.subplots(figsize=(15, 5))\n",
    "\n",
    "plt.scatter(X_test, y_test,  color='black')\n",
    "plt.plot(X_test, y_pred, color='red', linewidth=3, label='Linear regression')\n",
    "plt.plot(X_test, y_pred_dum, color='blue', linestyle = 'dashed', linewidth=2, label = 'Dummy regression')\n",
    "ax.legend()"
   ]
  },
  {
   "cell_type": "markdown",
   "id": "becfcf06",
   "metadata": {},
   "source": [
    "Model does not explain any of the variation in the response variable around its mean.\n",
    "\n",
    "Linear regression is marginally better than dummy regression.\n",
    "\n",
    "Both models do not fit the variables."
   ]
  }
 ],
 "metadata": {
  "kernelspec": {
   "display_name": "Python 3",
   "language": "python",
   "name": "python3"
  },
  "language_info": {
   "codemirror_mode": {
    "name": "ipython",
    "version": 3
   },
   "file_extension": ".py",
   "mimetype": "text/x-python",
   "name": "python",
   "nbconvert_exporter": "python",
   "pygments_lexer": "ipython3",
   "version": "3.8.8"
  }
 },
 "nbformat": 4,
 "nbformat_minor": 5
}
