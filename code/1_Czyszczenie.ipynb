{
  "nbformat": 4,
  "nbformat_minor": 0,
  "metadata": {
    "colab": {
      "name": "1_Czyszczenie.ipynb",
      "provenance": []
    },
    "kernelspec": {
      "name": "python3",
      "display_name": "Python 3"
    },
    "language_info": {
      "name": "python"
    }
  },
  "cells": [
    {
      "cell_type": "code",
      "execution_count": 1,
      "metadata": {
        "id": "N6BKPpLmf4Zl"
      },
      "outputs": [],
      "source": [
        "import pandas as pd"
      ]
    },
    {
      "cell_type": "code",
      "source": [
        "url = \"https://raw.githubusercontent.com/Agablue-red/Machine-Learning/master/data/CONVICTIONSUMMARY_raw_data.csv\""
      ],
      "metadata": {
        "id": "1f4GS8I7f6Zz"
      },
      "execution_count": 2,
      "outputs": []
    },
    {
      "cell_type": "code",
      "source": [
        "df = pd.read_csv(url, sep='|', index_col=False, names=['info', 'number', 'abbr', 'sector', 'status', 'value'])\n",
        "df"
      ],
      "metadata": {
        "colab": {
          "base_uri": "https://localhost:8080/",
          "height": 423
        },
        "id": "AIMv93ykgJDm",
        "outputId": "def89852-d709-4b04-a405-68e548ae18e0"
      },
      "execution_count": 3,
      "outputs": [
        {
          "output_type": "execute_result",
          "data": {
            "text/plain": [
              "                                                    info      number   abbr  \\\n",
              "0      10:01:54.391 77425 [77425-thread-2] INFO  a.s....   GN63J3-R     SU    \n",
              "1      10:01:54.391 77425 [77425-thread-2] INFO  a.s....   H5490W-R    GGG    \n",
              "2      10:01:54.391 77425 [77425-thread-2] INFO  a.s....   V0622Q-R    WGR    \n",
              "3      10:01:54.391 77425 [77425-thread-2] INFO  a.s....   GSWXLY-R    CWT    \n",
              "4      10:01:54.391 77425 [77425-thread-2] INFO  a.s....   VFT0VQ-R    BLL    \n",
              "...                                                  ...         ...    ...   \n",
              "75231  10:02:13.557 77425 [77425-thread-2] INFO  a.s....   PN68RD-R    ESE    \n",
              "75232  10:02:13.557 77425 [77425-thread-2] INFO  a.s....   LN3P8B-R    TPR    \n",
              "75233  10:02:13.557 77425 [77425-thread-2] INFO  a.s....   WRTBJT-R    URS    \n",
              "75234  10:02:13.557 77425 [77425-thread-2] INFO  a.s....   W0Z2R4-R    FUL    \n",
              "75235  10:02:13.557 77425 [77425-thread-2] INFO  a.s....         NaN    NaN   \n",
              "\n",
              "                         sector      status     value  \n",
              "0              Energy Minerals      MERGED   0.953727  \n",
              "1       Producer Manufacturing      MERGED   0.952753  \n",
              "2              Energy Minerals      MERGED   0.947634  \n",
              "3                    Utilities      MERGED   0.934181  \n",
              "4           Process Industries      MERGED   0.922862  \n",
              "...                         ...         ...       ...  \n",
              "75231    Electronic Technology    MOMENTUM   0.323364  \n",
              "75232             Retail Trade    MOMENTUM   0.010835  \n",
              "75233      Industrial Services    MOMENTUM   0.000000  \n",
              "75234       Process Industries    MOMENTUM   0.000000  \n",
              "75235                       NaN         NaN       NaN  \n",
              "\n",
              "[75236 rows x 6 columns]"
            ],
            "text/html": [
              "\n",
              "  <div id=\"df-ab7770dd-7ffa-4a6a-9ef3-b9f365453c97\">\n",
              "    <div class=\"colab-df-container\">\n",
              "      <div>\n",
              "<style scoped>\n",
              "    .dataframe tbody tr th:only-of-type {\n",
              "        vertical-align: middle;\n",
              "    }\n",
              "\n",
              "    .dataframe tbody tr th {\n",
              "        vertical-align: top;\n",
              "    }\n",
              "\n",
              "    .dataframe thead th {\n",
              "        text-align: right;\n",
              "    }\n",
              "</style>\n",
              "<table border=\"1\" class=\"dataframe\">\n",
              "  <thead>\n",
              "    <tr style=\"text-align: right;\">\n",
              "      <th></th>\n",
              "      <th>info</th>\n",
              "      <th>number</th>\n",
              "      <th>abbr</th>\n",
              "      <th>sector</th>\n",
              "      <th>status</th>\n",
              "      <th>value</th>\n",
              "    </tr>\n",
              "  </thead>\n",
              "  <tbody>\n",
              "    <tr>\n",
              "      <th>0</th>\n",
              "      <td>10:01:54.391 77425 [77425-thread-2] INFO  a.s....</td>\n",
              "      <td>GN63J3-R</td>\n",
              "      <td>SU</td>\n",
              "      <td>Energy Minerals</td>\n",
              "      <td>MERGED</td>\n",
              "      <td>0.953727</td>\n",
              "    </tr>\n",
              "    <tr>\n",
              "      <th>1</th>\n",
              "      <td>10:01:54.391 77425 [77425-thread-2] INFO  a.s....</td>\n",
              "      <td>H5490W-R</td>\n",
              "      <td>GGG</td>\n",
              "      <td>Producer Manufacturing</td>\n",
              "      <td>MERGED</td>\n",
              "      <td>0.952753</td>\n",
              "    </tr>\n",
              "    <tr>\n",
              "      <th>2</th>\n",
              "      <td>10:01:54.391 77425 [77425-thread-2] INFO  a.s....</td>\n",
              "      <td>V0622Q-R</td>\n",
              "      <td>WGR</td>\n",
              "      <td>Energy Minerals</td>\n",
              "      <td>MERGED</td>\n",
              "      <td>0.947634</td>\n",
              "    </tr>\n",
              "    <tr>\n",
              "      <th>3</th>\n",
              "      <td>10:01:54.391 77425 [77425-thread-2] INFO  a.s....</td>\n",
              "      <td>GSWXLY-R</td>\n",
              "      <td>CWT</td>\n",
              "      <td>Utilities</td>\n",
              "      <td>MERGED</td>\n",
              "      <td>0.934181</td>\n",
              "    </tr>\n",
              "    <tr>\n",
              "      <th>4</th>\n",
              "      <td>10:01:54.391 77425 [77425-thread-2] INFO  a.s....</td>\n",
              "      <td>VFT0VQ-R</td>\n",
              "      <td>BLL</td>\n",
              "      <td>Process Industries</td>\n",
              "      <td>MERGED</td>\n",
              "      <td>0.922862</td>\n",
              "    </tr>\n",
              "    <tr>\n",
              "      <th>...</th>\n",
              "      <td>...</td>\n",
              "      <td>...</td>\n",
              "      <td>...</td>\n",
              "      <td>...</td>\n",
              "      <td>...</td>\n",
              "      <td>...</td>\n",
              "    </tr>\n",
              "    <tr>\n",
              "      <th>75231</th>\n",
              "      <td>10:02:13.557 77425 [77425-thread-2] INFO  a.s....</td>\n",
              "      <td>PN68RD-R</td>\n",
              "      <td>ESE</td>\n",
              "      <td>Electronic Technology</td>\n",
              "      <td>MOMENTUM</td>\n",
              "      <td>0.323364</td>\n",
              "    </tr>\n",
              "    <tr>\n",
              "      <th>75232</th>\n",
              "      <td>10:02:13.557 77425 [77425-thread-2] INFO  a.s....</td>\n",
              "      <td>LN3P8B-R</td>\n",
              "      <td>TPR</td>\n",
              "      <td>Retail Trade</td>\n",
              "      <td>MOMENTUM</td>\n",
              "      <td>0.010835</td>\n",
              "    </tr>\n",
              "    <tr>\n",
              "      <th>75233</th>\n",
              "      <td>10:02:13.557 77425 [77425-thread-2] INFO  a.s....</td>\n",
              "      <td>WRTBJT-R</td>\n",
              "      <td>URS</td>\n",
              "      <td>Industrial Services</td>\n",
              "      <td>MOMENTUM</td>\n",
              "      <td>0.000000</td>\n",
              "    </tr>\n",
              "    <tr>\n",
              "      <th>75234</th>\n",
              "      <td>10:02:13.557 77425 [77425-thread-2] INFO  a.s....</td>\n",
              "      <td>W0Z2R4-R</td>\n",
              "      <td>FUL</td>\n",
              "      <td>Process Industries</td>\n",
              "      <td>MOMENTUM</td>\n",
              "      <td>0.000000</td>\n",
              "    </tr>\n",
              "    <tr>\n",
              "      <th>75235</th>\n",
              "      <td>10:02:13.557 77425 [77425-thread-2] INFO  a.s....</td>\n",
              "      <td>NaN</td>\n",
              "      <td>NaN</td>\n",
              "      <td>NaN</td>\n",
              "      <td>NaN</td>\n",
              "      <td>NaN</td>\n",
              "    </tr>\n",
              "  </tbody>\n",
              "</table>\n",
              "<p>75236 rows × 6 columns</p>\n",
              "</div>\n",
              "      <button class=\"colab-df-convert\" onclick=\"convertToInteractive('df-ab7770dd-7ffa-4a6a-9ef3-b9f365453c97')\"\n",
              "              title=\"Convert this dataframe to an interactive table.\"\n",
              "              style=\"display:none;\">\n",
              "        \n",
              "  <svg xmlns=\"http://www.w3.org/2000/svg\" height=\"24px\"viewBox=\"0 0 24 24\"\n",
              "       width=\"24px\">\n",
              "    <path d=\"M0 0h24v24H0V0z\" fill=\"none\"/>\n",
              "    <path d=\"M18.56 5.44l.94 2.06.94-2.06 2.06-.94-2.06-.94-.94-2.06-.94 2.06-2.06.94zm-11 1L8.5 8.5l.94-2.06 2.06-.94-2.06-.94L8.5 2.5l-.94 2.06-2.06.94zm10 10l.94 2.06.94-2.06 2.06-.94-2.06-.94-.94-2.06-.94 2.06-2.06.94z\"/><path d=\"M17.41 7.96l-1.37-1.37c-.4-.4-.92-.59-1.43-.59-.52 0-1.04.2-1.43.59L10.3 9.45l-7.72 7.72c-.78.78-.78 2.05 0 2.83L4 21.41c.39.39.9.59 1.41.59.51 0 1.02-.2 1.41-.59l7.78-7.78 2.81-2.81c.8-.78.8-2.07 0-2.86zM5.41 20L4 18.59l7.72-7.72 1.47 1.35L5.41 20z\"/>\n",
              "  </svg>\n",
              "      </button>\n",
              "      \n",
              "  <style>\n",
              "    .colab-df-container {\n",
              "      display:flex;\n",
              "      flex-wrap:wrap;\n",
              "      gap: 12px;\n",
              "    }\n",
              "\n",
              "    .colab-df-convert {\n",
              "      background-color: #E8F0FE;\n",
              "      border: none;\n",
              "      border-radius: 50%;\n",
              "      cursor: pointer;\n",
              "      display: none;\n",
              "      fill: #1967D2;\n",
              "      height: 32px;\n",
              "      padding: 0 0 0 0;\n",
              "      width: 32px;\n",
              "    }\n",
              "\n",
              "    .colab-df-convert:hover {\n",
              "      background-color: #E2EBFA;\n",
              "      box-shadow: 0px 1px 2px rgba(60, 64, 67, 0.3), 0px 1px 3px 1px rgba(60, 64, 67, 0.15);\n",
              "      fill: #174EA6;\n",
              "    }\n",
              "\n",
              "    [theme=dark] .colab-df-convert {\n",
              "      background-color: #3B4455;\n",
              "      fill: #D2E3FC;\n",
              "    }\n",
              "\n",
              "    [theme=dark] .colab-df-convert:hover {\n",
              "      background-color: #434B5C;\n",
              "      box-shadow: 0px 1px 3px 1px rgba(0, 0, 0, 0.15);\n",
              "      filter: drop-shadow(0px 1px 2px rgba(0, 0, 0, 0.3));\n",
              "      fill: #FFFFFF;\n",
              "    }\n",
              "  </style>\n",
              "\n",
              "      <script>\n",
              "        const buttonEl =\n",
              "          document.querySelector('#df-ab7770dd-7ffa-4a6a-9ef3-b9f365453c97 button.colab-df-convert');\n",
              "        buttonEl.style.display =\n",
              "          google.colab.kernel.accessAllowed ? 'block' : 'none';\n",
              "\n",
              "        async function convertToInteractive(key) {\n",
              "          const element = document.querySelector('#df-ab7770dd-7ffa-4a6a-9ef3-b9f365453c97');\n",
              "          const dataTable =\n",
              "            await google.colab.kernel.invokeFunction('convertToInteractive',\n",
              "                                                     [key], {});\n",
              "          if (!dataTable) return;\n",
              "\n",
              "          const docLinkHtml = 'Like what you see? Visit the ' +\n",
              "            '<a target=\"_blank\" href=https://colab.research.google.com/notebooks/data_table.ipynb>data table notebook</a>'\n",
              "            + ' to learn more about interactive tables.';\n",
              "          element.innerHTML = '';\n",
              "          dataTable['output_type'] = 'display_data';\n",
              "          await google.colab.output.renderOutput(dataTable, element);\n",
              "          const docLink = document.createElement('div');\n",
              "          docLink.innerHTML = docLinkHtml;\n",
              "          element.appendChild(docLink);\n",
              "        }\n",
              "      </script>\n",
              "    </div>\n",
              "  </div>\n",
              "  "
            ]
          },
          "metadata": {},
          "execution_count": 3
        }
      ]
    },
    {
      "cell_type": "code",
      "source": [
        "#rozbicie kolumny info\n",
        "df[['1','2','3','4','5','6','7','8','9','10','11']] = df['info'].str.split(' ',expand=True)"
      ],
      "metadata": {
        "id": "tBwqS4oogowz"
      },
      "execution_count": 4,
      "outputs": []
    },
    {
      "cell_type": "code",
      "source": [
        "#usuniecie niepotrzebnych kolumn\n",
        "df = df.drop(['info','2','3','4','5','6','7','8','9','11'], axis=1)"
      ],
      "metadata": {
        "id": "qHyHKLH2ibWS"
      },
      "execution_count": 5,
      "outputs": []
    },
    {
      "cell_type": "code",
      "source": [
        "#zmiana nazw kolumn\n",
        "df = df.rename(columns={'1':'time', '10':'date'})"
      ],
      "metadata": {
        "id": "xy9mJalzioD5"
      },
      "execution_count": 6,
      "outputs": []
    },
    {
      "cell_type": "code",
      "source": [
        "# usuniecie indeksu pustego\n",
        "df = df.drop(df.index[75235])"
      ],
      "metadata": {
        "id": "KQMCir5YkTDW"
      },
      "execution_count": 7,
      "outputs": []
    },
    {
      "cell_type": "code",
      "source": [
        "# zmiana kolejnosci kolummn\n",
        "df = df[['date', 'time', 'number', 'abbr', 'sector', 'status', 'value']]"
      ],
      "metadata": {
        "id": "hfYtPAyxk5ix"
      },
      "execution_count": 8,
      "outputs": []
    },
    {
      "cell_type": "code",
      "source": [
        "df.head(5)"
      ],
      "metadata": {
        "colab": {
          "base_uri": "https://localhost:8080/",
          "height": 206
        },
        "id": "I1rUB299mFqA",
        "outputId": "14e1bbf8-666a-4a00-bb89-01a991876ca9"
      },
      "execution_count": 9,
      "outputs": [
        {
          "output_type": "execute_result",
          "data": {
            "text/plain": [
              "         date          time      number   abbr                    sector  \\\n",
              "0  2004-02-11  10:01:54.391   GN63J3-R     SU           Energy Minerals    \n",
              "1  2004-02-11  10:01:54.391   H5490W-R    GGG    Producer Manufacturing    \n",
              "2  2004-02-11  10:01:54.391   V0622Q-R    WGR           Energy Minerals    \n",
              "3  2004-02-11  10:01:54.391   GSWXLY-R    CWT                 Utilities    \n",
              "4  2004-02-11  10:01:54.391   VFT0VQ-R    BLL        Process Industries    \n",
              "\n",
              "     status     value  \n",
              "0   MERGED   0.953727  \n",
              "1   MERGED   0.952753  \n",
              "2   MERGED   0.947634  \n",
              "3   MERGED   0.934181  \n",
              "4   MERGED   0.922862  "
            ],
            "text/html": [
              "\n",
              "  <div id=\"df-aaac3d85-eda1-4d49-a23c-4ab2ce4aefd7\">\n",
              "    <div class=\"colab-df-container\">\n",
              "      <div>\n",
              "<style scoped>\n",
              "    .dataframe tbody tr th:only-of-type {\n",
              "        vertical-align: middle;\n",
              "    }\n",
              "\n",
              "    .dataframe tbody tr th {\n",
              "        vertical-align: top;\n",
              "    }\n",
              "\n",
              "    .dataframe thead th {\n",
              "        text-align: right;\n",
              "    }\n",
              "</style>\n",
              "<table border=\"1\" class=\"dataframe\">\n",
              "  <thead>\n",
              "    <tr style=\"text-align: right;\">\n",
              "      <th></th>\n",
              "      <th>date</th>\n",
              "      <th>time</th>\n",
              "      <th>number</th>\n",
              "      <th>abbr</th>\n",
              "      <th>sector</th>\n",
              "      <th>status</th>\n",
              "      <th>value</th>\n",
              "    </tr>\n",
              "  </thead>\n",
              "  <tbody>\n",
              "    <tr>\n",
              "      <th>0</th>\n",
              "      <td>2004-02-11</td>\n",
              "      <td>10:01:54.391</td>\n",
              "      <td>GN63J3-R</td>\n",
              "      <td>SU</td>\n",
              "      <td>Energy Minerals</td>\n",
              "      <td>MERGED</td>\n",
              "      <td>0.953727</td>\n",
              "    </tr>\n",
              "    <tr>\n",
              "      <th>1</th>\n",
              "      <td>2004-02-11</td>\n",
              "      <td>10:01:54.391</td>\n",
              "      <td>H5490W-R</td>\n",
              "      <td>GGG</td>\n",
              "      <td>Producer Manufacturing</td>\n",
              "      <td>MERGED</td>\n",
              "      <td>0.952753</td>\n",
              "    </tr>\n",
              "    <tr>\n",
              "      <th>2</th>\n",
              "      <td>2004-02-11</td>\n",
              "      <td>10:01:54.391</td>\n",
              "      <td>V0622Q-R</td>\n",
              "      <td>WGR</td>\n",
              "      <td>Energy Minerals</td>\n",
              "      <td>MERGED</td>\n",
              "      <td>0.947634</td>\n",
              "    </tr>\n",
              "    <tr>\n",
              "      <th>3</th>\n",
              "      <td>2004-02-11</td>\n",
              "      <td>10:01:54.391</td>\n",
              "      <td>GSWXLY-R</td>\n",
              "      <td>CWT</td>\n",
              "      <td>Utilities</td>\n",
              "      <td>MERGED</td>\n",
              "      <td>0.934181</td>\n",
              "    </tr>\n",
              "    <tr>\n",
              "      <th>4</th>\n",
              "      <td>2004-02-11</td>\n",
              "      <td>10:01:54.391</td>\n",
              "      <td>VFT0VQ-R</td>\n",
              "      <td>BLL</td>\n",
              "      <td>Process Industries</td>\n",
              "      <td>MERGED</td>\n",
              "      <td>0.922862</td>\n",
              "    </tr>\n",
              "  </tbody>\n",
              "</table>\n",
              "</div>\n",
              "      <button class=\"colab-df-convert\" onclick=\"convertToInteractive('df-aaac3d85-eda1-4d49-a23c-4ab2ce4aefd7')\"\n",
              "              title=\"Convert this dataframe to an interactive table.\"\n",
              "              style=\"display:none;\">\n",
              "        \n",
              "  <svg xmlns=\"http://www.w3.org/2000/svg\" height=\"24px\"viewBox=\"0 0 24 24\"\n",
              "       width=\"24px\">\n",
              "    <path d=\"M0 0h24v24H0V0z\" fill=\"none\"/>\n",
              "    <path d=\"M18.56 5.44l.94 2.06.94-2.06 2.06-.94-2.06-.94-.94-2.06-.94 2.06-2.06.94zm-11 1L8.5 8.5l.94-2.06 2.06-.94-2.06-.94L8.5 2.5l-.94 2.06-2.06.94zm10 10l.94 2.06.94-2.06 2.06-.94-2.06-.94-.94-2.06-.94 2.06-2.06.94z\"/><path d=\"M17.41 7.96l-1.37-1.37c-.4-.4-.92-.59-1.43-.59-.52 0-1.04.2-1.43.59L10.3 9.45l-7.72 7.72c-.78.78-.78 2.05 0 2.83L4 21.41c.39.39.9.59 1.41.59.51 0 1.02-.2 1.41-.59l7.78-7.78 2.81-2.81c.8-.78.8-2.07 0-2.86zM5.41 20L4 18.59l7.72-7.72 1.47 1.35L5.41 20z\"/>\n",
              "  </svg>\n",
              "      </button>\n",
              "      \n",
              "  <style>\n",
              "    .colab-df-container {\n",
              "      display:flex;\n",
              "      flex-wrap:wrap;\n",
              "      gap: 12px;\n",
              "    }\n",
              "\n",
              "    .colab-df-convert {\n",
              "      background-color: #E8F0FE;\n",
              "      border: none;\n",
              "      border-radius: 50%;\n",
              "      cursor: pointer;\n",
              "      display: none;\n",
              "      fill: #1967D2;\n",
              "      height: 32px;\n",
              "      padding: 0 0 0 0;\n",
              "      width: 32px;\n",
              "    }\n",
              "\n",
              "    .colab-df-convert:hover {\n",
              "      background-color: #E2EBFA;\n",
              "      box-shadow: 0px 1px 2px rgba(60, 64, 67, 0.3), 0px 1px 3px 1px rgba(60, 64, 67, 0.15);\n",
              "      fill: #174EA6;\n",
              "    }\n",
              "\n",
              "    [theme=dark] .colab-df-convert {\n",
              "      background-color: #3B4455;\n",
              "      fill: #D2E3FC;\n",
              "    }\n",
              "\n",
              "    [theme=dark] .colab-df-convert:hover {\n",
              "      background-color: #434B5C;\n",
              "      box-shadow: 0px 1px 3px 1px rgba(0, 0, 0, 0.15);\n",
              "      filter: drop-shadow(0px 1px 2px rgba(0, 0, 0, 0.3));\n",
              "      fill: #FFFFFF;\n",
              "    }\n",
              "  </style>\n",
              "\n",
              "      <script>\n",
              "        const buttonEl =\n",
              "          document.querySelector('#df-aaac3d85-eda1-4d49-a23c-4ab2ce4aefd7 button.colab-df-convert');\n",
              "        buttonEl.style.display =\n",
              "          google.colab.kernel.accessAllowed ? 'block' : 'none';\n",
              "\n",
              "        async function convertToInteractive(key) {\n",
              "          const element = document.querySelector('#df-aaac3d85-eda1-4d49-a23c-4ab2ce4aefd7');\n",
              "          const dataTable =\n",
              "            await google.colab.kernel.invokeFunction('convertToInteractive',\n",
              "                                                     [key], {});\n",
              "          if (!dataTable) return;\n",
              "\n",
              "          const docLinkHtml = 'Like what you see? Visit the ' +\n",
              "            '<a target=\"_blank\" href=https://colab.research.google.com/notebooks/data_table.ipynb>data table notebook</a>'\n",
              "            + ' to learn more about interactive tables.';\n",
              "          element.innerHTML = '';\n",
              "          dataTable['output_type'] = 'display_data';\n",
              "          await google.colab.output.renderOutput(dataTable, element);\n",
              "          const docLink = document.createElement('div');\n",
              "          docLink.innerHTML = docLinkHtml;\n",
              "          element.appendChild(docLink);\n",
              "        }\n",
              "      </script>\n",
              "    </div>\n",
              "  </div>\n",
              "  "
            ]
          },
          "metadata": {},
          "execution_count": 9
        }
      ]
    },
    {
      "cell_type": "code",
      "source": [
        "print('Shape of raw dataset: {}'.format(df.shape))"
      ],
      "metadata": {
        "colab": {
          "base_uri": "https://localhost:8080/"
        },
        "id": "S8fLhhl8mrRw",
        "outputId": "699527f9-4c22-4919-bbb8-e1a269ed94a3"
      },
      "execution_count": 10,
      "outputs": [
        {
          "output_type": "stream",
          "name": "stdout",
          "text": [
            "Shape of raw dataset: (75235, 7)\n"
          ]
        }
      ]
    },
    {
      "cell_type": "code",
      "source": [
        "df.isnull().sum()"
      ],
      "metadata": {
        "colab": {
          "base_uri": "https://localhost:8080/"
        },
        "id": "JxjtKIU6oHSL",
        "outputId": "c3e43d81-401a-436a-b747-d968a49dba94"
      },
      "execution_count": 11,
      "outputs": [
        {
          "output_type": "execute_result",
          "data": {
            "text/plain": [
              "date      0\n",
              "time      0\n",
              "number    0\n",
              "abbr      0\n",
              "sector    0\n",
              "status    0\n",
              "value     0\n",
              "dtype: int64"
            ]
          },
          "metadata": {},
          "execution_count": 11
        }
      ]
    },
    {
      "cell_type": "code",
      "source": [
        "df.duplicated().sum()"
      ],
      "metadata": {
        "colab": {
          "base_uri": "https://localhost:8080/"
        },
        "id": "JKc67yKsoQdP",
        "outputId": "58437174-7a02-458c-de96-5c73db6c2623"
      },
      "execution_count": 12,
      "outputs": [
        {
          "output_type": "execute_result",
          "data": {
            "text/plain": [
              "0"
            ]
          },
          "metadata": {},
          "execution_count": 12
        }
      ]
    },
    {
      "cell_type": "code",
      "source": [
        "df.status.unique()"
      ],
      "metadata": {
        "colab": {
          "base_uri": "https://localhost:8080/"
        },
        "id": "XyTGaxh-nTeE",
        "outputId": "3913de18-0b0f-4992-bb01-e7816922d011"
      },
      "execution_count": 13,
      "outputs": [
        {
          "output_type": "execute_result",
          "data": {
            "text/plain": [
              "array([' MERGED ', ' GROWTH ', ' VALUE ', ' MOMENTUM ', ' VOLATILITY '],\n",
              "      dtype=object)"
            ]
          },
          "metadata": {},
          "execution_count": 13
        }
      ]
    },
    {
      "cell_type": "code",
      "source": [
        "df.number.unique()"
      ],
      "metadata": {
        "colab": {
          "base_uri": "https://localhost:8080/"
        },
        "id": "AoTD-TuKq9Og",
        "outputId": "d8a933a1-01b8-414d-d74a-595f5b68ce99"
      },
      "execution_count": 14,
      "outputs": [
        {
          "output_type": "execute_result",
          "data": {
            "text/plain": [
              "array([' GN63J3-R ', ' H5490W-R ', ' V0622Q-R ', ..., ' HR9BX9-R ',\n",
              "       ' JJ80B8-R ', ' S7Q72S-R '], dtype=object)"
            ]
          },
          "metadata": {},
          "execution_count": 14
        }
      ]
    },
    {
      "cell_type": "code",
      "source": [
        "df.abbr.unique()"
      ],
      "metadata": {
        "colab": {
          "base_uri": "https://localhost:8080/"
        },
        "id": "ymskR6vOrPsQ",
        "outputId": "227f58f5-d279-462e-87b9-43d10d165f35"
      },
      "execution_count": 15,
      "outputs": [
        {
          "output_type": "execute_result",
          "data": {
            "text/plain": [
              "array([' SU ', ' GGG ', ' WGR ', ..., ' GBX ', ' OVTI ', ' SNCAF '],\n",
              "      dtype=object)"
            ]
          },
          "metadata": {},
          "execution_count": 15
        }
      ]
    },
    {
      "cell_type": "code",
      "source": [
        "df.sector.unique()"
      ],
      "metadata": {
        "colab": {
          "base_uri": "https://localhost:8080/"
        },
        "id": "scIL6X_2rd_T",
        "outputId": "34a2b906-f569-4a29-825a-3f285757fd30"
      },
      "execution_count": 16,
      "outputs": [
        {
          "output_type": "execute_result",
          "data": {
            "text/plain": [
              "array([' Energy Minerals ', ' Producer Manufacturing ', ' Utilities ',\n",
              "       ' Process Industries ', ' Consumer Services ', ' Transportation ',\n",
              "       ' Retail Trade ', ' Finance ', ' Health Technology ',\n",
              "       ' Miscellaneous ', ' Non-Energy Minerals ',\n",
              "       ' Distribution Services ', ' Consumer Non-Durables ',\n",
              "       ' Commercial Services ', ' Technology Services ',\n",
              "       ' Consumer Durables ', ' Health Services ',\n",
              "       ' Electronic Technology ', ' Industrial Services ',\n",
              "       ' Communications '], dtype=object)"
            ]
          },
          "metadata": {},
          "execution_count": 16
        }
      ]
    },
    {
      "cell_type": "code",
      "source": [
        "df.value.unique()"
      ],
      "metadata": {
        "colab": {
          "base_uri": "https://localhost:8080/"
        },
        "id": "VhxVCqfbr01B",
        "outputId": "7ee4dc3c-50a1-478d-e944-001dd4f7f0a6"
      },
      "execution_count": 17,
      "outputs": [
        {
          "output_type": "execute_result",
          "data": {
            "text/plain": [
              "array([0.95372705, 0.9527531 , 0.94763414, ..., 0.2217868 , 0.0122281 ,\n",
              "       0.03434746])"
            ]
          },
          "metadata": {},
          "execution_count": 17
        }
      ]
    },
    {
      "cell_type": "code",
      "source": [
        "df.value = df.value.astype('str')"
      ],
      "metadata": {
        "id": "Uwpc_X8CDviB"
      },
      "execution_count": 18,
      "outputs": []
    },
    {
      "cell_type": "code",
      "source": [
        "df['status'] = df['status'].str.strip()\n",
        "df['number'] = df['number'].str.strip()\n",
        "df['abbr'] = df['abbr'].str.strip()\n",
        "df['sector'] = df['sector'].str.strip()\n",
        "df['value'] = df['value'].str.strip()"
      ],
      "metadata": {
        "id": "fAdYcGexpoiI"
      },
      "execution_count": 19,
      "outputs": []
    },
    {
      "cell_type": "code",
      "source": [
        "df.value = df.value.astype('float64')"
      ],
      "metadata": {
        "id": "mr62ERORE7be"
      },
      "execution_count": 20,
      "outputs": []
    },
    {
      "cell_type": "code",
      "source": [
        "df[\"date\"] = pd.to_datetime(df[\"date\"])"
      ],
      "metadata": {
        "id": "e9fSlSx8yVmc"
      },
      "execution_count": 21,
      "outputs": []
    },
    {
      "cell_type": "code",
      "source": [
        "df.dtypes"
      ],
      "metadata": {
        "colab": {
          "base_uri": "https://localhost:8080/"
        },
        "id": "6dLEigmAyf48",
        "outputId": "a6617890-e395-4ce7-e4be-8c533522b844"
      },
      "execution_count": 22,
      "outputs": [
        {
          "output_type": "execute_result",
          "data": {
            "text/plain": [
              "date      datetime64[ns]\n",
              "time              object\n",
              "number            object\n",
              "abbr              object\n",
              "sector            object\n",
              "status            object\n",
              "value            float64\n",
              "dtype: object"
            ]
          },
          "metadata": {},
          "execution_count": 22
        }
      ]
    },
    {
      "cell_type": "code",
      "source": [
        "df = df[df[\"status\"] == \"MERGED\"]"
      ],
      "metadata": {
        "id": "OfSiphO3sbHo"
      },
      "execution_count": 23,
      "outputs": []
    },
    {
      "cell_type": "code",
      "source": [
        "print('Shape of clean dataset : {}'.format(df.shape))"
      ],
      "metadata": {
        "colab": {
          "base_uri": "https://localhost:8080/"
        },
        "id": "2LKkjhKdnFp4",
        "outputId": "11f21a29-6f38-4bbf-f072-6f57c0cd76c4"
      },
      "execution_count": 24,
      "outputs": [
        {
          "output_type": "stream",
          "name": "stdout",
          "text": [
            "Shape of clean dataset : (18705, 7)\n"
          ]
        }
      ]
    },
    {
      "cell_type": "code",
      "source": [
        "df.head(5)"
      ],
      "metadata": {
        "colab": {
          "base_uri": "https://localhost:8080/",
          "height": 206
        },
        "id": "X4F7To9sq9zI",
        "outputId": "30f7c0aa-0ead-4af4-8712-392f0a1d0bcd"
      },
      "execution_count": 25,
      "outputs": [
        {
          "output_type": "execute_result",
          "data": {
            "text/plain": [
              "        date          time    number abbr                  sector  status  \\\n",
              "0 2004-02-11  10:01:54.391  GN63J3-R   SU         Energy Minerals  MERGED   \n",
              "1 2004-02-11  10:01:54.391  H5490W-R  GGG  Producer Manufacturing  MERGED   \n",
              "2 2004-02-11  10:01:54.391  V0622Q-R  WGR         Energy Minerals  MERGED   \n",
              "3 2004-02-11  10:01:54.391  GSWXLY-R  CWT               Utilities  MERGED   \n",
              "4 2004-02-11  10:01:54.391  VFT0VQ-R  BLL      Process Industries  MERGED   \n",
              "\n",
              "      value  \n",
              "0  0.953727  \n",
              "1  0.952753  \n",
              "2  0.947634  \n",
              "3  0.934181  \n",
              "4  0.922862  "
            ],
            "text/html": [
              "\n",
              "  <div id=\"df-627faa01-84d8-4ec5-aa0f-c7cb1dba5a64\">\n",
              "    <div class=\"colab-df-container\">\n",
              "      <div>\n",
              "<style scoped>\n",
              "    .dataframe tbody tr th:only-of-type {\n",
              "        vertical-align: middle;\n",
              "    }\n",
              "\n",
              "    .dataframe tbody tr th {\n",
              "        vertical-align: top;\n",
              "    }\n",
              "\n",
              "    .dataframe thead th {\n",
              "        text-align: right;\n",
              "    }\n",
              "</style>\n",
              "<table border=\"1\" class=\"dataframe\">\n",
              "  <thead>\n",
              "    <tr style=\"text-align: right;\">\n",
              "      <th></th>\n",
              "      <th>date</th>\n",
              "      <th>time</th>\n",
              "      <th>number</th>\n",
              "      <th>abbr</th>\n",
              "      <th>sector</th>\n",
              "      <th>status</th>\n",
              "      <th>value</th>\n",
              "    </tr>\n",
              "  </thead>\n",
              "  <tbody>\n",
              "    <tr>\n",
              "      <th>0</th>\n",
              "      <td>2004-02-11</td>\n",
              "      <td>10:01:54.391</td>\n",
              "      <td>GN63J3-R</td>\n",
              "      <td>SU</td>\n",
              "      <td>Energy Minerals</td>\n",
              "      <td>MERGED</td>\n",
              "      <td>0.953727</td>\n",
              "    </tr>\n",
              "    <tr>\n",
              "      <th>1</th>\n",
              "      <td>2004-02-11</td>\n",
              "      <td>10:01:54.391</td>\n",
              "      <td>H5490W-R</td>\n",
              "      <td>GGG</td>\n",
              "      <td>Producer Manufacturing</td>\n",
              "      <td>MERGED</td>\n",
              "      <td>0.952753</td>\n",
              "    </tr>\n",
              "    <tr>\n",
              "      <th>2</th>\n",
              "      <td>2004-02-11</td>\n",
              "      <td>10:01:54.391</td>\n",
              "      <td>V0622Q-R</td>\n",
              "      <td>WGR</td>\n",
              "      <td>Energy Minerals</td>\n",
              "      <td>MERGED</td>\n",
              "      <td>0.947634</td>\n",
              "    </tr>\n",
              "    <tr>\n",
              "      <th>3</th>\n",
              "      <td>2004-02-11</td>\n",
              "      <td>10:01:54.391</td>\n",
              "      <td>GSWXLY-R</td>\n",
              "      <td>CWT</td>\n",
              "      <td>Utilities</td>\n",
              "      <td>MERGED</td>\n",
              "      <td>0.934181</td>\n",
              "    </tr>\n",
              "    <tr>\n",
              "      <th>4</th>\n",
              "      <td>2004-02-11</td>\n",
              "      <td>10:01:54.391</td>\n",
              "      <td>VFT0VQ-R</td>\n",
              "      <td>BLL</td>\n",
              "      <td>Process Industries</td>\n",
              "      <td>MERGED</td>\n",
              "      <td>0.922862</td>\n",
              "    </tr>\n",
              "  </tbody>\n",
              "</table>\n",
              "</div>\n",
              "      <button class=\"colab-df-convert\" onclick=\"convertToInteractive('df-627faa01-84d8-4ec5-aa0f-c7cb1dba5a64')\"\n",
              "              title=\"Convert this dataframe to an interactive table.\"\n",
              "              style=\"display:none;\">\n",
              "        \n",
              "  <svg xmlns=\"http://www.w3.org/2000/svg\" height=\"24px\"viewBox=\"0 0 24 24\"\n",
              "       width=\"24px\">\n",
              "    <path d=\"M0 0h24v24H0V0z\" fill=\"none\"/>\n",
              "    <path d=\"M18.56 5.44l.94 2.06.94-2.06 2.06-.94-2.06-.94-.94-2.06-.94 2.06-2.06.94zm-11 1L8.5 8.5l.94-2.06 2.06-.94-2.06-.94L8.5 2.5l-.94 2.06-2.06.94zm10 10l.94 2.06.94-2.06 2.06-.94-2.06-.94-.94-2.06-.94 2.06-2.06.94z\"/><path d=\"M17.41 7.96l-1.37-1.37c-.4-.4-.92-.59-1.43-.59-.52 0-1.04.2-1.43.59L10.3 9.45l-7.72 7.72c-.78.78-.78 2.05 0 2.83L4 21.41c.39.39.9.59 1.41.59.51 0 1.02-.2 1.41-.59l7.78-7.78 2.81-2.81c.8-.78.8-2.07 0-2.86zM5.41 20L4 18.59l7.72-7.72 1.47 1.35L5.41 20z\"/>\n",
              "  </svg>\n",
              "      </button>\n",
              "      \n",
              "  <style>\n",
              "    .colab-df-container {\n",
              "      display:flex;\n",
              "      flex-wrap:wrap;\n",
              "      gap: 12px;\n",
              "    }\n",
              "\n",
              "    .colab-df-convert {\n",
              "      background-color: #E8F0FE;\n",
              "      border: none;\n",
              "      border-radius: 50%;\n",
              "      cursor: pointer;\n",
              "      display: none;\n",
              "      fill: #1967D2;\n",
              "      height: 32px;\n",
              "      padding: 0 0 0 0;\n",
              "      width: 32px;\n",
              "    }\n",
              "\n",
              "    .colab-df-convert:hover {\n",
              "      background-color: #E2EBFA;\n",
              "      box-shadow: 0px 1px 2px rgba(60, 64, 67, 0.3), 0px 1px 3px 1px rgba(60, 64, 67, 0.15);\n",
              "      fill: #174EA6;\n",
              "    }\n",
              "\n",
              "    [theme=dark] .colab-df-convert {\n",
              "      background-color: #3B4455;\n",
              "      fill: #D2E3FC;\n",
              "    }\n",
              "\n",
              "    [theme=dark] .colab-df-convert:hover {\n",
              "      background-color: #434B5C;\n",
              "      box-shadow: 0px 1px 3px 1px rgba(0, 0, 0, 0.15);\n",
              "      filter: drop-shadow(0px 1px 2px rgba(0, 0, 0, 0.3));\n",
              "      fill: #FFFFFF;\n",
              "    }\n",
              "  </style>\n",
              "\n",
              "      <script>\n",
              "        const buttonEl =\n",
              "          document.querySelector('#df-627faa01-84d8-4ec5-aa0f-c7cb1dba5a64 button.colab-df-convert');\n",
              "        buttonEl.style.display =\n",
              "          google.colab.kernel.accessAllowed ? 'block' : 'none';\n",
              "\n",
              "        async function convertToInteractive(key) {\n",
              "          const element = document.querySelector('#df-627faa01-84d8-4ec5-aa0f-c7cb1dba5a64');\n",
              "          const dataTable =\n",
              "            await google.colab.kernel.invokeFunction('convertToInteractive',\n",
              "                                                     [key], {});\n",
              "          if (!dataTable) return;\n",
              "\n",
              "          const docLinkHtml = 'Like what you see? Visit the ' +\n",
              "            '<a target=\"_blank\" href=https://colab.research.google.com/notebooks/data_table.ipynb>data table notebook</a>'\n",
              "            + ' to learn more about interactive tables.';\n",
              "          element.innerHTML = '';\n",
              "          dataTable['output_type'] = 'display_data';\n",
              "          await google.colab.output.renderOutput(dataTable, element);\n",
              "          const docLink = document.createElement('div');\n",
              "          docLink.innerHTML = docLinkHtml;\n",
              "          element.appendChild(docLink);\n",
              "        }\n",
              "      </script>\n",
              "    </div>\n",
              "  </div>\n",
              "  "
            ]
          },
          "metadata": {},
          "execution_count": 25
        }
      ]
    },
    {
      "cell_type": "code",
      "source": [
        "from google.colab import files\n",
        "\n",
        "df.to_csv('CONVICTIONSUMMARY.csv', index=False) \n",
        "files.download('CONVICTIONSUMMARY.csv')"
      ],
      "metadata": {
        "colab": {
          "base_uri": "https://localhost:8080/",
          "height": 17
        },
        "id": "MQVXuDUVv2Jw",
        "outputId": "b70194f1-765f-4469-da0a-31278e993a6b"
      },
      "execution_count": 26,
      "outputs": [
        {
          "output_type": "display_data",
          "data": {
            "text/plain": [
              "<IPython.core.display.Javascript object>"
            ],
            "application/javascript": [
              "\n",
              "    async function download(id, filename, size) {\n",
              "      if (!google.colab.kernel.accessAllowed) {\n",
              "        return;\n",
              "      }\n",
              "      const div = document.createElement('div');\n",
              "      const label = document.createElement('label');\n",
              "      label.textContent = `Downloading \"${filename}\": `;\n",
              "      div.appendChild(label);\n",
              "      const progress = document.createElement('progress');\n",
              "      progress.max = size;\n",
              "      div.appendChild(progress);\n",
              "      document.body.appendChild(div);\n",
              "\n",
              "      const buffers = [];\n",
              "      let downloaded = 0;\n",
              "\n",
              "      const channel = await google.colab.kernel.comms.open(id);\n",
              "      // Send a message to notify the kernel that we're ready.\n",
              "      channel.send({})\n",
              "\n",
              "      for await (const message of channel.messages) {\n",
              "        // Send a message to notify the kernel that we're ready.\n",
              "        channel.send({})\n",
              "        if (message.buffers) {\n",
              "          for (const buffer of message.buffers) {\n",
              "            buffers.push(buffer);\n",
              "            downloaded += buffer.byteLength;\n",
              "            progress.value = downloaded;\n",
              "          }\n",
              "        }\n",
              "      }\n",
              "      const blob = new Blob(buffers, {type: 'application/binary'});\n",
              "      const a = document.createElement('a');\n",
              "      a.href = window.URL.createObjectURL(blob);\n",
              "      a.download = filename;\n",
              "      div.appendChild(a);\n",
              "      a.click();\n",
              "      div.remove();\n",
              "    }\n",
              "  "
            ]
          },
          "metadata": {}
        },
        {
          "output_type": "display_data",
          "data": {
            "text/plain": [
              "<IPython.core.display.Javascript object>"
            ],
            "application/javascript": [
              "download(\"download_e929cb08-dc31-4c06-92f8-8ccfc311e39f\", \"CONVICTIONSUMMARY.csv\", 1338606)"
            ]
          },
          "metadata": {}
        }
      ]
    }
  ]
}