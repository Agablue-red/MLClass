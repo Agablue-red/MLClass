{
 "cells": [
  {
   "cell_type": "markdown",
   "id": "02e8d38d",
   "metadata": {},
   "source": [
    "#  Linear Regression"
   ]
  },
  {
   "cell_type": "markdown",
   "id": "bae102ff",
   "metadata": {},
   "source": [
    "### Importing libraries"
   ]
  },
  {
   "cell_type": "code",
   "execution_count": 1,
   "id": "191be7bc",
   "metadata": {},
   "outputs": [],
   "source": [
    "import pandas as pd\n",
    "import numpy as np\n",
    "from datetime import datetime\n",
    "import matplotlib.pyplot as plt\n",
    "from sklearn.linear_model import LinearRegression\n",
    "from sklearn.metrics import mean_squared_error, r2_score, median_absolute_error"
   ]
  },
  {
   "cell_type": "markdown",
   "id": "38f6ae39",
   "metadata": {},
   "source": [
    "### Uploading data"
   ]
  },
  {
   "cell_type": "code",
   "execution_count": 2,
   "id": "093aa8dc",
   "metadata": {},
   "outputs": [],
   "source": [
    "url = \"https://raw.githubusercontent.com/Agablue-red/Machine-Learning/master/data/Dataset.csv\"\n",
    "data = pd.read_csv(url)"
   ]
  },
  {
   "cell_type": "code",
   "execution_count": 3,
   "id": "bc725750",
   "metadata": {},
   "outputs": [
    {
     "data": {
      "text/html": [
       "<div>\n",
       "<style scoped>\n",
       "    .dataframe tbody tr th:only-of-type {\n",
       "        vertical-align: middle;\n",
       "    }\n",
       "\n",
       "    .dataframe tbody tr th {\n",
       "        vertical-align: top;\n",
       "    }\n",
       "\n",
       "    .dataframe thead th {\n",
       "        text-align: right;\n",
       "    }\n",
       "</style>\n",
       "<table border=\"1\" class=\"dataframe\">\n",
       "  <thead>\n",
       "    <tr style=\"text-align: right;\">\n",
       "      <th></th>\n",
       "      <th>Date</th>\n",
       "      <th>symbol</th>\n",
       "      <th>sector</th>\n",
       "      <th>score</th>\n",
       "      <th>close</th>\n",
       "      <th>return_rate</th>\n",
       "    </tr>\n",
       "  </thead>\n",
       "  <tbody>\n",
       "    <tr>\n",
       "      <th>0</th>\n",
       "      <td>2004-02-11</td>\n",
       "      <td>SU</td>\n",
       "      <td>Energy Minerals</td>\n",
       "      <td>0.953727</td>\n",
       "      <td>12.830000</td>\n",
       "      <td>NaN</td>\n",
       "    </tr>\n",
       "    <tr>\n",
       "      <th>1</th>\n",
       "      <td>2004-02-11</td>\n",
       "      <td>GGG</td>\n",
       "      <td>Producer Manufacturing</td>\n",
       "      <td>0.952753</td>\n",
       "      <td>9.322222</td>\n",
       "      <td>NaN</td>\n",
       "    </tr>\n",
       "    <tr>\n",
       "      <th>2</th>\n",
       "      <td>2004-02-11</td>\n",
       "      <td>CWT</td>\n",
       "      <td>Utilities</td>\n",
       "      <td>0.934181</td>\n",
       "      <td>14.245000</td>\n",
       "      <td>NaN</td>\n",
       "    </tr>\n",
       "    <tr>\n",
       "      <th>3</th>\n",
       "      <td>2004-02-11</td>\n",
       "      <td>BLL</td>\n",
       "      <td>Process Industries</td>\n",
       "      <td>0.922862</td>\n",
       "      <td>8.012500</td>\n",
       "      <td>NaN</td>\n",
       "    </tr>\n",
       "    <tr>\n",
       "      <th>4</th>\n",
       "      <td>2004-02-11</td>\n",
       "      <td>APA</td>\n",
       "      <td>Energy Minerals</td>\n",
       "      <td>0.912117</td>\n",
       "      <td>39.509998</td>\n",
       "      <td>NaN</td>\n",
       "    </tr>\n",
       "  </tbody>\n",
       "</table>\n",
       "</div>"
      ],
      "text/plain": [
       "         Date symbol                  sector     score      close  return_rate\n",
       "0  2004-02-11     SU         Energy Minerals  0.953727  12.830000          NaN\n",
       "1  2004-02-11    GGG  Producer Manufacturing  0.952753   9.322222          NaN\n",
       "2  2004-02-11    CWT               Utilities  0.934181  14.245000          NaN\n",
       "3  2004-02-11    BLL      Process Industries  0.922862   8.012500          NaN\n",
       "4  2004-02-11    APA         Energy Minerals  0.912117  39.509998          NaN"
      ]
     },
     "execution_count": 3,
     "metadata": {},
     "output_type": "execute_result"
    }
   ],
   "source": [
    "data.head()"
   ]
  },
  {
   "cell_type": "code",
   "execution_count": 4,
   "id": "1773a74e",
   "metadata": {},
   "outputs": [
    {
     "name": "stdout",
     "output_type": "stream",
     "text": [
      "NaN for first period\n"
     ]
    }
   ],
   "source": [
    "nan_rows = data[data['return_rate'].isnull()]\n",
    "if nan_rows.symbol.nunique() == len(nan_rows):\n",
    "    print(\"NaN for first period\")\n"
   ]
  },
  {
   "cell_type": "markdown",
   "id": "6b21e2c0",
   "metadata": {},
   "source": [
    "Replacing NaNs with 0 value:"
   ]
  },
  {
   "cell_type": "code",
   "execution_count": 5,
   "id": "65043877",
   "metadata": {},
   "outputs": [],
   "source": [
    "data['return_rate'] = data['return_rate'].fillna(0)"
   ]
  },
  {
   "cell_type": "markdown",
   "id": "5290e488",
   "metadata": {},
   "source": [
    "Looking at the tail of the data, meaning the newest observations:"
   ]
  },
  {
   "cell_type": "code",
   "execution_count": 6,
   "id": "dd993f91",
   "metadata": {},
   "outputs": [
    {
     "data": {
      "text/html": [
       "<div>\n",
       "<style scoped>\n",
       "    .dataframe tbody tr th:only-of-type {\n",
       "        vertical-align: middle;\n",
       "    }\n",
       "\n",
       "    .dataframe tbody tr th {\n",
       "        vertical-align: top;\n",
       "    }\n",
       "\n",
       "    .dataframe thead th {\n",
       "        text-align: right;\n",
       "    }\n",
       "</style>\n",
       "<table border=\"1\" class=\"dataframe\">\n",
       "  <thead>\n",
       "    <tr style=\"text-align: right;\">\n",
       "      <th></th>\n",
       "      <th>Date</th>\n",
       "      <th>symbol</th>\n",
       "      <th>sector</th>\n",
       "      <th>score</th>\n",
       "      <th>close</th>\n",
       "      <th>return_rate</th>\n",
       "    </tr>\n",
       "  </thead>\n",
       "  <tbody>\n",
       "    <tr>\n",
       "      <th>30546</th>\n",
       "      <td>2022-02-09</td>\n",
       "      <td>PEP</td>\n",
       "      <td>Consumer Non-Durables</td>\n",
       "      <td>0.701507</td>\n",
       "      <td>171.940002</td>\n",
       "      <td>-0.003189</td>\n",
       "    </tr>\n",
       "    <tr>\n",
       "      <th>30547</th>\n",
       "      <td>2022-02-09</td>\n",
       "      <td>SSNC</td>\n",
       "      <td>Technology Services</td>\n",
       "      <td>0.701123</td>\n",
       "      <td>82.419998</td>\n",
       "      <td>0.025890</td>\n",
       "    </tr>\n",
       "    <tr>\n",
       "      <th>30548</th>\n",
       "      <td>2022-02-09</td>\n",
       "      <td>GEF</td>\n",
       "      <td>Process Industries</td>\n",
       "      <td>0.697954</td>\n",
       "      <td>56.930000</td>\n",
       "      <td>-0.001753</td>\n",
       "    </tr>\n",
       "    <tr>\n",
       "      <th>30549</th>\n",
       "      <td>2022-02-09</td>\n",
       "      <td>DPZ</td>\n",
       "      <td>Consumer Services</td>\n",
       "      <td>0.697741</td>\n",
       "      <td>444.760010</td>\n",
       "      <td>0.015272</td>\n",
       "    </tr>\n",
       "    <tr>\n",
       "      <th>30550</th>\n",
       "      <td>2022-02-09</td>\n",
       "      <td>LIFZF</td>\n",
       "      <td>Non-Energy Minerals</td>\n",
       "      <td>0.695644</td>\n",
       "      <td>34.410000</td>\n",
       "      <td>0.069630</td>\n",
       "    </tr>\n",
       "  </tbody>\n",
       "</table>\n",
       "</div>"
      ],
      "text/plain": [
       "             Date symbol                 sector     score       close  \\\n",
       "30546  2022-02-09    PEP  Consumer Non-Durables  0.701507  171.940002   \n",
       "30547  2022-02-09   SSNC    Technology Services  0.701123   82.419998   \n",
       "30548  2022-02-09    GEF     Process Industries  0.697954   56.930000   \n",
       "30549  2022-02-09    DPZ      Consumer Services  0.697741  444.760010   \n",
       "30550  2022-02-09  LIFZF    Non-Energy Minerals  0.695644   34.410000   \n",
       "\n",
       "       return_rate  \n",
       "30546    -0.003189  \n",
       "30547     0.025890  \n",
       "30548    -0.001753  \n",
       "30549     0.015272  \n",
       "30550     0.069630  "
      ]
     },
     "execution_count": 6,
     "metadata": {},
     "output_type": "execute_result"
    }
   ],
   "source": [
    "data.tail()"
   ]
  },
  {
   "cell_type": "markdown",
   "id": "bb623ec9",
   "metadata": {},
   "source": [
    "### Information about dataset"
   ]
  },
  {
   "cell_type": "markdown",
   "id": "3ee5324b",
   "metadata": {},
   "source": [
    "Data types:"
   ]
  },
  {
   "cell_type": "code",
   "execution_count": 7,
   "id": "81d05afc",
   "metadata": {},
   "outputs": [
    {
     "name": "stdout",
     "output_type": "stream",
     "text": [
      "<class 'pandas.core.frame.DataFrame'>\n",
      "RangeIndex: 30551 entries, 0 to 30550\n",
      "Data columns (total 6 columns):\n",
      " #   Column       Non-Null Count  Dtype  \n",
      "---  ------       --------------  -----  \n",
      " 0   Date         30551 non-null  object \n",
      " 1   symbol       30551 non-null  object \n",
      " 2   sector       30551 non-null  object \n",
      " 3   score        30551 non-null  float64\n",
      " 4   close        30551 non-null  float64\n",
      " 5   return_rate  30551 non-null  float64\n",
      "dtypes: float64(3), object(3)\n",
      "memory usage: 1.4+ MB\n"
     ]
    }
   ],
   "source": [
    "data.info()"
   ]
  },
  {
   "cell_type": "markdown",
   "id": "bff56466",
   "metadata": {},
   "source": [
    "Checking if there is any lack of data:"
   ]
  },
  {
   "cell_type": "code",
   "execution_count": 8,
   "id": "2dc61a26",
   "metadata": {},
   "outputs": [
    {
     "data": {
      "text/plain": [
       "Date           0\n",
       "symbol         0\n",
       "sector         0\n",
       "score          0\n",
       "close          0\n",
       "return_rate    0\n",
       "dtype: int64"
      ]
     },
     "execution_count": 8,
     "metadata": {},
     "output_type": "execute_result"
    }
   ],
   "source": [
    "data.isnull().sum()"
   ]
  },
  {
   "cell_type": "markdown",
   "id": "7af9e211",
   "metadata": {},
   "source": [
    "Changing the type of 'date' variable:"
   ]
  },
  {
   "cell_type": "code",
   "execution_count": 9,
   "id": "c41e3051",
   "metadata": {},
   "outputs": [],
   "source": [
    "data['Date'] = pd.to_datetime(data['Date'], format = '%Y-%m-%d')\n",
    "data = data.set_index('Date')"
   ]
  },
  {
   "cell_type": "markdown",
   "id": "f25c8a5c",
   "metadata": {},
   "source": [
    "#### Fundamental statistics on numeric variables"
   ]
  },
  {
   "cell_type": "code",
   "execution_count": 10,
   "id": "8a33f97a",
   "metadata": {},
   "outputs": [
    {
     "data": {
      "text/html": [
       "<div>\n",
       "<style scoped>\n",
       "    .dataframe tbody tr th:only-of-type {\n",
       "        vertical-align: middle;\n",
       "    }\n",
       "\n",
       "    .dataframe tbody tr th {\n",
       "        vertical-align: top;\n",
       "    }\n",
       "\n",
       "    .dataframe thead th {\n",
       "        text-align: right;\n",
       "    }\n",
       "</style>\n",
       "<table border=\"1\" class=\"dataframe\">\n",
       "  <thead>\n",
       "    <tr style=\"text-align: right;\">\n",
       "      <th></th>\n",
       "      <th>score</th>\n",
       "      <th>close</th>\n",
       "      <th>return_rate</th>\n",
       "    </tr>\n",
       "  </thead>\n",
       "  <tbody>\n",
       "    <tr>\n",
       "      <th>count</th>\n",
       "      <td>30551.000000</td>\n",
       "      <td>30551.000000</td>\n",
       "      <td>30551.000000</td>\n",
       "    </tr>\n",
       "    <tr>\n",
       "      <th>mean</th>\n",
       "      <td>0.731206</td>\n",
       "      <td>101.353658</td>\n",
       "      <td>0.003849</td>\n",
       "    </tr>\n",
       "    <tr>\n",
       "      <th>std</th>\n",
       "      <td>0.117692</td>\n",
       "      <td>2627.016498</td>\n",
       "      <td>0.044643</td>\n",
       "    </tr>\n",
       "    <tr>\n",
       "      <th>min</th>\n",
       "      <td>0.413554</td>\n",
       "      <td>0.020000</td>\n",
       "      <td>-0.951550</td>\n",
       "    </tr>\n",
       "    <tr>\n",
       "      <th>25%</th>\n",
       "      <td>0.653428</td>\n",
       "      <td>26.072500</td>\n",
       "      <td>-0.016298</td>\n",
       "    </tr>\n",
       "    <tr>\n",
       "      <th>50%</th>\n",
       "      <td>0.741474</td>\n",
       "      <td>44.770000</td>\n",
       "      <td>0.002865</td>\n",
       "    </tr>\n",
       "    <tr>\n",
       "      <th>75%</th>\n",
       "      <td>0.813471</td>\n",
       "      <td>73.910004</td>\n",
       "      <td>0.023672</td>\n",
       "    </tr>\n",
       "    <tr>\n",
       "      <th>max</th>\n",
       "      <td>0.987225</td>\n",
       "      <td>453000.000000</td>\n",
       "      <td>0.632911</td>\n",
       "    </tr>\n",
       "  </tbody>\n",
       "</table>\n",
       "</div>"
      ],
      "text/plain": [
       "              score          close   return_rate\n",
       "count  30551.000000   30551.000000  30551.000000\n",
       "mean       0.731206     101.353658      0.003849\n",
       "std        0.117692    2627.016498      0.044643\n",
       "min        0.413554       0.020000     -0.951550\n",
       "25%        0.653428      26.072500     -0.016298\n",
       "50%        0.741474      44.770000      0.002865\n",
       "75%        0.813471      73.910004      0.023672\n",
       "max        0.987225  453000.000000      0.632911"
      ]
     },
     "execution_count": 10,
     "metadata": {},
     "output_type": "execute_result"
    }
   ],
   "source": [
    "data.describe()"
   ]
  },
  {
   "cell_type": "markdown",
   "id": "b39caceb",
   "metadata": {},
   "source": [
    "There are in total 30 551 observations. The mean score for this dataset is 0,73, mean closing price is 101,3 and mean return rate is 0,004."
   ]
  },
  {
   "cell_type": "code",
   "execution_count": 11,
   "id": "81767124",
   "metadata": {},
   "outputs": [
    {
     "data": {
      "text/plain": [
       "SHW      170\n",
       "GEF      140\n",
       "ORLY     138\n",
       "INGR     122\n",
       "GPC      122\n",
       "        ... \n",
       "ATSG       1\n",
       "POST       1\n",
       "DWSN       1\n",
       "AMIVF      1\n",
       "AGCO       1\n",
       "Name: symbol, Length: 1338, dtype: int64"
      ]
     },
     "execution_count": 11,
     "metadata": {},
     "output_type": "execute_result"
    }
   ],
   "source": [
    "data.symbol.value_counts()"
   ]
  },
  {
   "cell_type": "markdown",
   "id": "20a81523",
   "metadata": {},
   "source": [
    "There are 1338 companies in total, some of them occur only once in the time series and some even over 100 times. "
   ]
  },
  {
   "cell_type": "markdown",
   "id": "781d03e0",
   "metadata": {},
   "source": [
    "### Visualization of return rate for 2004 - 2022"
   ]
  },
  {
   "cell_type": "code",
   "execution_count": 13,
   "id": "6a446c52",
   "metadata": {},
   "outputs": [
    {
     "data": {
      "image/png": "[encoded data removed]",
      "text/plain": [
       "<Figure size 1152x648 with 1 Axes>"
      ]
     },
     "metadata": {
      "needs_background": "light"
     },
     "output_type": "display_data"
    }
   ],
   "source": [
    "fig, ax=plt.subplots(figsize=(16, 9))\n",
    "data['return_rate'].plot(ax=ax, label='return_rate')\n",
    "\n",
    "ax.legend();"
   ]
  },
  {
   "cell_type": "markdown",
   "id": "43950817",
   "metadata": {},
   "source": [
    "The figure shows return rates since 2004 to 2022. It has a lot of deviations, seasonality is not observed. The highest deviance was observed in 2004. In years from 2008 and 2010 the biggest fluctuations on return rates were noted."
   ]
  },
  {
   "cell_type": "markdown",
   "id": "c156c548",
   "metadata": {},
   "source": [
    "### Splitting the data into training and testing sets"
   ]
  },
  {
   "cell_type": "markdown",
   "id": "bf575b7e",
   "metadata": {},
   "source": [
    "Training set involves data from 2010 to 2020 and testing set includes the year 2021.\n"
   ]
  },
  {
   "cell_type": "code",
   "execution_count": 15,
   "id": "b51c51f3",
   "metadata": {},
   "outputs": [
    {
     "name": "stderr",
     "output_type": "stream",
     "text": [
      "/Users/wiktoriaekwinska/opt/anaconda3/envs/tf/lib/python3.7/site-packages/ipykernel_launcher.py:4: FutureWarning: Indexing a DataFrame with a datetimelike index using a single string to slice the rows, like `frame[string]`, is deprecated and will be removed in a future version. Use `frame.loc[string]` instead.\n",
      "  after removing the cwd from sys.path.\n"
     ]
    }
   ],
   "source": [
    "X_train = data['2010':'2020'].drop(['symbol','sector','return_rate', 'close'], axis = 1)\n",
    "y_train = data.loc['2010':'2020', 'return_rate']\n",
    "\n",
    "X_test = data['2021'].drop(['symbol','sector','return_rate', 'close'], axis = 1)\n",
    "y_test = data.loc['2021', 'return_rate']"
   ]
  },
  {
   "cell_type": "code",
   "execution_count": 16,
   "id": "4d7897c4",
   "metadata": {},
   "outputs": [
    {
     "data": {
      "text/html": [
       "<div>\n",
       "<style scoped>\n",
       "    .dataframe tbody tr th:only-of-type {\n",
       "        vertical-align: middle;\n",
       "    }\n",
       "\n",
       "    .dataframe tbody tr th {\n",
       "        vertical-align: top;\n",
       "    }\n",
       "\n",
       "    .dataframe thead th {\n",
       "        text-align: right;\n",
       "    }\n",
       "</style>\n",
       "<table border=\"1\" class=\"dataframe\">\n",
       "  <thead>\n",
       "    <tr style=\"text-align: right;\">\n",
       "      <th></th>\n",
       "      <th>score</th>\n",
       "    </tr>\n",
       "    <tr>\n",
       "      <th>Date</th>\n",
       "      <th></th>\n",
       "    </tr>\n",
       "  </thead>\n",
       "  <tbody>\n",
       "    <tr>\n",
       "      <th>2010-01-13</th>\n",
       "      <td>0.895419</td>\n",
       "    </tr>\n",
       "    <tr>\n",
       "      <th>2010-01-13</th>\n",
       "      <td>0.839992</td>\n",
       "    </tr>\n",
       "    <tr>\n",
       "      <th>2010-01-13</th>\n",
       "      <td>0.829445</td>\n",
       "    </tr>\n",
       "    <tr>\n",
       "      <th>2010-01-13</th>\n",
       "      <td>0.809663</td>\n",
       "    </tr>\n",
       "    <tr>\n",
       "      <th>2010-01-13</th>\n",
       "      <td>0.774477</td>\n",
       "    </tr>\n",
       "  </tbody>\n",
       "</table>\n",
       "</div>"
      ],
      "text/plain": [
       "               score\n",
       "Date                \n",
       "2010-01-13  0.895419\n",
       "2010-01-13  0.839992\n",
       "2010-01-13  0.829445\n",
       "2010-01-13  0.809663\n",
       "2010-01-13  0.774477"
      ]
     },
     "execution_count": 16,
     "metadata": {},
     "output_type": "execute_result"
    }
   ],
   "source": [
    "X_train.head()"
   ]
  },
  {
   "cell_type": "code",
   "execution_count": 17,
   "id": "e22952c5",
   "metadata": {},
   "outputs": [
    {
     "data": {
      "text/plain": [
       "(19797,)"
      ]
     },
     "execution_count": 17,
     "metadata": {},
     "output_type": "execute_result"
    }
   ],
   "source": [
    "y_train.shape"
   ]
  },
  {
   "cell_type": "code",
   "execution_count": 18,
   "id": "6c53527d",
   "metadata": {},
   "outputs": [
    {
     "data": {
      "text/plain": [
       "(2021,)"
      ]
     },
     "execution_count": 18,
     "metadata": {},
     "output_type": "execute_result"
    }
   ],
   "source": [
    "y_test.shape"
   ]
  },
  {
   "cell_type": "code",
   "execution_count": 19,
   "id": "a9ccf84d",
   "metadata": {},
   "outputs": [
    {
     "data": {
      "text/plain": [
       "(19797, 1)"
      ]
     },
     "execution_count": 19,
     "metadata": {},
     "output_type": "execute_result"
    }
   ],
   "source": [
    "X_train.shape"
   ]
  },
  {
   "cell_type": "code",
   "execution_count": 20,
   "id": "83906ea8",
   "metadata": {},
   "outputs": [
    {
     "data": {
      "text/plain": [
       "(2021, 1)"
      ]
     },
     "execution_count": 20,
     "metadata": {},
     "output_type": "execute_result"
    }
   ],
   "source": [
    "X_test.shape"
   ]
  },
  {
   "cell_type": "markdown",
   "id": "044ca7b5",
   "metadata": {},
   "source": [
    "Testing sets have 2021 observations and training sets consist of 19797 obserations."
   ]
  },
  {
   "cell_type": "markdown",
   "id": "e36d3cb6",
   "metadata": {},
   "source": [
    "### Dummy regression"
   ]
  },
  {
   "cell_type": "code",
   "execution_count": 21,
   "id": "3c9d951f",
   "metadata": {},
   "outputs": [],
   "source": [
    "from sklearn.dummy import DummyRegressor"
   ]
  },
  {
   "cell_type": "code",
   "execution_count": 22,
   "id": "f444b71d",
   "metadata": {},
   "outputs": [
    {
     "data": {
      "text/plain": [
       "0.0"
      ]
     },
     "execution_count": 22,
     "metadata": {},
     "output_type": "execute_result"
    }
   ],
   "source": [
    "reg_dummy = DummyRegressor(strategy = 'mean').fit(X_train, y_train) \n",
    "\n",
    "y_pred_dum = reg_dummy.predict(X_test)\n",
    "\n",
    "reg_dummy.score(X_train, y_train)"
   ]
  },
  {
   "cell_type": "code",
   "execution_count": 23,
   "id": "08509c42",
   "metadata": {},
   "outputs": [
    {
     "name": "stdout",
     "output_type": "stream",
     "text": [
      "Mean squared error (linear model): 0.00\n",
      "Median absolute error (linear model): 0.02\n"
     ]
    }
   ],
   "source": [
    "print(\"Mean squared error (linear model): {:.2f}\".format(mean_squared_error(y_test, y_pred_dum)))\n",
    "print(\"Median absolute error (linear model): {:.2f}\".format(median_absolute_error(y_test, y_pred_dum)))"
   ]
  },
  {
   "cell_type": "markdown",
   "id": "dd681370",
   "metadata": {},
   "source": [
    "### Linear regression"
   ]
  },
  {
   "cell_type": "code",
   "execution_count": 24,
   "id": "f990dccb",
   "metadata": {},
   "outputs": [
    {
     "data": {
      "text/plain": [
       "0.005437296983874185"
      ]
     },
     "execution_count": 24,
     "metadata": {},
     "output_type": "execute_result"
    }
   ],
   "source": [
    "lm = LinearRegression().fit(X_train, y_train)\n",
    "y_pred = lm.predict(X_test)\n",
    "\n",
    "lm.score(X_train, y_train)"
   ]
  },
  {
   "cell_type": "code",
   "execution_count": 25,
   "id": "5cdb7ddd",
   "metadata": {},
   "outputs": [
    {
     "name": "stdout",
     "output_type": "stream",
     "text": [
      "Mean squared error (linear model): 0.00\n",
      "Median absolute error (linear model): 0.02\n"
     ]
    }
   ],
   "source": [
    "print(\"Mean squared error (linear model): {:.2f}\".format(mean_squared_error(y_test, y_pred)))\n",
    "print(\"Median absolute error (linear model): {:.2f}\".format(median_absolute_error(y_test, y_pred)))"
   ]
  },
  {
   "cell_type": "markdown",
   "id": "ef559d04",
   "metadata": {},
   "source": [
    "### Comparison between dummy regression and linear regression in combination with observations from testing sets"
   ]
  },
  {
   "cell_type": "code",
   "execution_count": 28,
   "id": "c5393d44",
   "metadata": {},
   "outputs": [
    {
     "data": {
      "text/plain": [
       "[<matplotlib.lines.Line2D at 0x7fe77c98a510>]"
      ]
     },
     "execution_count": 28,
     "metadata": {},
     "output_type": "execute_result"
    },
    {
     "data": {
      "image/png": "[encoded data removed]",
      "text/plain": [
       "<Figure size 432x288 with 1 Axes>"
      ]
     },
     "metadata": {},
     "output_type": "display_data"
    }
   ],
   "source": [
    "plt.scatter(X_test, y_test,  color='black')\n",
    "plt.plot(X_test, y_pred, color='green', linewidth=2)\n",
    "plt.plot(X_test, y_pred_dum, color='blue', linestyle = 'dashed', \n",
    "        linewidth=2, label = 'dummy')\n"
   ]
  }
 ],
 "metadata": {
  "kernelspec": {
   "display_name": "Python 3",
   "language": "python",
   "name": "python3"
  },
  "language_info": {
   "codemirror_mode": {
    "name": "ipython",
    "version": 3
   },
   "file_extension": ".py",
   "mimetype": "text/x-python",
   "name": "python",
   "nbconvert_exporter": "python",
   "pygments_lexer": "ipython3",
   "version": "3.8.8"
  }
 },
 "nbformat": 4,
 "nbformat_minor": 5
}
