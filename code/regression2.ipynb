{
 "cells": [
  {
   "cell_type": "markdown",
   "id": "8f5d065a",
   "metadata": {},
   "source": [
    "#  Linear Regression (logarithmic rate of return)"
   ]
  },
  {
   "cell_type": "markdown",
   "id": "bae102ff",
   "metadata": {},
   "source": [
    "### Importing libraries"
   ]
  },
  {
   "cell_type": "code",
   "execution_count": 1,
   "id": "191be7bc",
   "metadata": {},
   "outputs": [],
   "source": [
    "import pandas as pd\n",
    "import numpy as np\n",
    "from datetime import datetime\n",
    "import matplotlib.pyplot as plt\n",
    "from sklearn.linear_model import LinearRegression\n",
    "from sklearn.metrics import mean_squared_error, r2_score, median_absolute_error\n",
    "import sklearn.metrics as metrics"
   ]
  },
  {
   "cell_type": "markdown",
   "id": "38f6ae39",
   "metadata": {},
   "source": [
    "### Uploading data"
   ]
  },
  {
   "cell_type": "code",
   "execution_count": 2,
   "id": "093aa8dc",
   "metadata": {},
   "outputs": [],
   "source": [
    "url = \"https://raw.githubusercontent.com/Agablue-red/Machine-Learning/master/data/dataset_ln_rate.csv\"\n",
    "data = pd.read_csv(url)"
   ]
  },
  {
   "cell_type": "code",
   "execution_count": 3,
   "id": "bc725750",
   "metadata": {},
   "outputs": [
    {
     "data": {
      "text/html": [
       "<div>\n",
       "<style scoped>\n",
       "    .dataframe tbody tr th:only-of-type {\n",
       "        vertical-align: middle;\n",
       "    }\n",
       "\n",
       "    .dataframe tbody tr th {\n",
       "        vertical-align: top;\n",
       "    }\n",
       "\n",
       "    .dataframe thead th {\n",
       "        text-align: right;\n",
       "    }\n",
       "</style>\n",
       "<table border=\"1\" class=\"dataframe\">\n",
       "  <thead>\n",
       "    <tr style=\"text-align: right;\">\n",
       "      <th></th>\n",
       "      <th>symbol</th>\n",
       "      <th>sector</th>\n",
       "      <th>score</th>\n",
       "      <th>date</th>\n",
       "      <th>close</th>\n",
       "      <th>return_rate</th>\n",
       "    </tr>\n",
       "  </thead>\n",
       "  <tbody>\n",
       "    <tr>\n",
       "      <th>0</th>\n",
       "      <td>SU</td>\n",
       "      <td>Energy Minerals</td>\n",
       "      <td>0.953727</td>\n",
       "      <td>2004-02-11</td>\n",
       "      <td>13.285000</td>\n",
       "      <td>0.008314</td>\n",
       "    </tr>\n",
       "    <tr>\n",
       "      <th>1</th>\n",
       "      <td>GGG</td>\n",
       "      <td>Producer Manufacturing</td>\n",
       "      <td>0.952753</td>\n",
       "      <td>2004-02-11</td>\n",
       "      <td>9.388889</td>\n",
       "      <td>0.011665</td>\n",
       "    </tr>\n",
       "    <tr>\n",
       "      <th>2</th>\n",
       "      <td>CWT</td>\n",
       "      <td>Utilities</td>\n",
       "      <td>0.934181</td>\n",
       "      <td>2004-02-11</td>\n",
       "      <td>14.720000</td>\n",
       "      <td>0.004767</td>\n",
       "    </tr>\n",
       "    <tr>\n",
       "      <th>3</th>\n",
       "      <td>BLL</td>\n",
       "      <td>Process Industries</td>\n",
       "      <td>0.922862</td>\n",
       "      <td>2004-02-11</td>\n",
       "      <td>8.095000</td>\n",
       "      <td>0.002783</td>\n",
       "    </tr>\n",
       "    <tr>\n",
       "      <th>4</th>\n",
       "      <td>APA</td>\n",
       "      <td>Energy Minerals</td>\n",
       "      <td>0.912117</td>\n",
       "      <td>2004-02-11</td>\n",
       "      <td>39.830002</td>\n",
       "      <td>0.005791</td>\n",
       "    </tr>\n",
       "  </tbody>\n",
       "</table>\n",
       "</div>"
      ],
      "text/plain": [
       "  symbol                  sector     score        date      close  return_rate\n",
       "0     SU         Energy Minerals  0.953727  2004-02-11  13.285000     0.008314\n",
       "1    GGG  Producer Manufacturing  0.952753  2004-02-11   9.388889     0.011665\n",
       "2    CWT               Utilities  0.934181  2004-02-11  14.720000     0.004767\n",
       "3    BLL      Process Industries  0.922862  2004-02-11   8.095000     0.002783\n",
       "4    APA         Energy Minerals  0.912117  2004-02-11  39.830002     0.005791"
      ]
     },
     "execution_count": 3,
     "metadata": {},
     "output_type": "execute_result"
    }
   ],
   "source": [
    "data.head()"
   ]
  },
  {
   "cell_type": "code",
   "execution_count": 4,
   "id": "1773a74e",
   "metadata": {},
   "outputs": [
    {
     "name": "stdout",
     "output_type": "stream",
     "text": [
      "NaN for first period\n"
     ]
    }
   ],
   "source": [
    "nan_rows = data[data['return_rate'].isnull()]\n",
    "if nan_rows.symbol.nunique() == len(nan_rows):\n",
    "    print(\"NaN for first period\")\n"
   ]
  },
  {
   "cell_type": "markdown",
   "id": "6b21e2c0",
   "metadata": {},
   "source": [
    "Replacing NaNs with 0 value:"
   ]
  },
  {
   "cell_type": "code",
   "execution_count": 5,
   "id": "65043877",
   "metadata": {},
   "outputs": [],
   "source": [
    "data['return_rate'] = data['return_rate'].fillna(0)"
   ]
  },
  {
   "cell_type": "markdown",
   "id": "5290e488",
   "metadata": {},
   "source": [
    "Looking at the tail of the data, meaning the newest observations:"
   ]
  },
  {
   "cell_type": "code",
   "execution_count": 6,
   "id": "dd993f91",
   "metadata": {
    "scrolled": false
   },
   "outputs": [
    {
     "data": {
      "text/html": [
       "<div>\n",
       "<style scoped>\n",
       "    .dataframe tbody tr th:only-of-type {\n",
       "        vertical-align: middle;\n",
       "    }\n",
       "\n",
       "    .dataframe tbody tr th {\n",
       "        vertical-align: top;\n",
       "    }\n",
       "\n",
       "    .dataframe thead th {\n",
       "        text-align: right;\n",
       "    }\n",
       "</style>\n",
       "<table border=\"1\" class=\"dataframe\">\n",
       "  <thead>\n",
       "    <tr style=\"text-align: right;\">\n",
       "      <th></th>\n",
       "      <th>symbol</th>\n",
       "      <th>sector</th>\n",
       "      <th>score</th>\n",
       "      <th>date</th>\n",
       "      <th>close</th>\n",
       "      <th>return_rate</th>\n",
       "    </tr>\n",
       "  </thead>\n",
       "  <tbody>\n",
       "    <tr>\n",
       "      <th>30232</th>\n",
       "      <td>PEP</td>\n",
       "      <td>Consumer Non-Durables</td>\n",
       "      <td>0.701507</td>\n",
       "      <td>2022-02-09</td>\n",
       "      <td>171.940002</td>\n",
       "      <td>-0.000465</td>\n",
       "    </tr>\n",
       "    <tr>\n",
       "      <th>30233</th>\n",
       "      <td>SSNC</td>\n",
       "      <td>Technology Services</td>\n",
       "      <td>0.701123</td>\n",
       "      <td>2022-02-09</td>\n",
       "      <td>82.419998</td>\n",
       "      <td>0.020718</td>\n",
       "    </tr>\n",
       "    <tr>\n",
       "      <th>30234</th>\n",
       "      <td>GEF</td>\n",
       "      <td>Process Industries</td>\n",
       "      <td>0.697954</td>\n",
       "      <td>2022-02-09</td>\n",
       "      <td>56.930000</td>\n",
       "      <td>-0.016549</td>\n",
       "    </tr>\n",
       "    <tr>\n",
       "      <th>30235</th>\n",
       "      <td>DPZ</td>\n",
       "      <td>Consumer Services</td>\n",
       "      <td>0.697741</td>\n",
       "      <td>2022-02-09</td>\n",
       "      <td>444.760010</td>\n",
       "      <td>0.013651</td>\n",
       "    </tr>\n",
       "    <tr>\n",
       "      <th>30236</th>\n",
       "      <td>LIFZF</td>\n",
       "      <td>Non-Energy Minerals</td>\n",
       "      <td>0.695644</td>\n",
       "      <td>2022-02-09</td>\n",
       "      <td>34.410000</td>\n",
       "      <td>0.024714</td>\n",
       "    </tr>\n",
       "  </tbody>\n",
       "</table>\n",
       "</div>"
      ],
      "text/plain": [
       "      symbol                 sector     score        date       close  \\\n",
       "30232    PEP  Consumer Non-Durables  0.701507  2022-02-09  171.940002   \n",
       "30233   SSNC    Technology Services  0.701123  2022-02-09   82.419998   \n",
       "30234    GEF     Process Industries  0.697954  2022-02-09   56.930000   \n",
       "30235    DPZ      Consumer Services  0.697741  2022-02-09  444.760010   \n",
       "30236  LIFZF    Non-Energy Minerals  0.695644  2022-02-09   34.410000   \n",
       "\n",
       "       return_rate  \n",
       "30232    -0.000465  \n",
       "30233     0.020718  \n",
       "30234    -0.016549  \n",
       "30235     0.013651  \n",
       "30236     0.024714  "
      ]
     },
     "execution_count": 6,
     "metadata": {},
     "output_type": "execute_result"
    }
   ],
   "source": [
    "data.tail()"
   ]
  },
  {
   "cell_type": "markdown",
   "id": "bb623ec9",
   "metadata": {},
   "source": [
    "### Information about dataset"
   ]
  },
  {
   "cell_type": "markdown",
   "id": "3ee5324b",
   "metadata": {},
   "source": [
    "Data types:"
   ]
  },
  {
   "cell_type": "code",
   "execution_count": 7,
   "id": "81d05afc",
   "metadata": {},
   "outputs": [
    {
     "name": "stdout",
     "output_type": "stream",
     "text": [
      "<class 'pandas.core.frame.DataFrame'>\n",
      "RangeIndex: 30237 entries, 0 to 30236\n",
      "Data columns (total 6 columns):\n",
      " #   Column       Non-Null Count  Dtype  \n",
      "---  ------       --------------  -----  \n",
      " 0   symbol       30237 non-null  object \n",
      " 1   sector       30237 non-null  object \n",
      " 2   score        30237 non-null  float64\n",
      " 3   date         30237 non-null  object \n",
      " 4   close        30237 non-null  float64\n",
      " 5   return_rate  30237 non-null  float64\n",
      "dtypes: float64(3), object(3)\n",
      "memory usage: 1.4+ MB\n"
     ]
    }
   ],
   "source": [
    "data.info()"
   ]
  },
  {
   "cell_type": "markdown",
   "id": "bff56466",
   "metadata": {},
   "source": [
    "Checking if there is any lack of data:"
   ]
  },
  {
   "cell_type": "code",
   "execution_count": 8,
   "id": "2dc61a26",
   "metadata": {},
   "outputs": [
    {
     "data": {
      "text/plain": [
       "symbol         0\n",
       "sector         0\n",
       "score          0\n",
       "date           0\n",
       "close          0\n",
       "return_rate    0\n",
       "dtype: int64"
      ]
     },
     "execution_count": 8,
     "metadata": {},
     "output_type": "execute_result"
    }
   ],
   "source": [
    "data.isnull().sum()"
   ]
  },
  {
   "cell_type": "markdown",
   "id": "7af9e211",
   "metadata": {},
   "source": [
    "Changing the type of 'date' variable:"
   ]
  },
  {
   "cell_type": "code",
   "execution_count": 9,
   "id": "c41e3051",
   "metadata": {},
   "outputs": [],
   "source": [
    "data['date'] = pd.to_datetime(data['date'], format = '%Y-%m-%d')\n",
    "data = data.set_index('date')"
   ]
  },
  {
   "cell_type": "markdown",
   "id": "f25c8a5c",
   "metadata": {},
   "source": [
    "#### Fundamental statistics on numeric variables"
   ]
  },
  {
   "cell_type": "code",
   "execution_count": 10,
   "id": "8a33f97a",
   "metadata": {},
   "outputs": [
    {
     "data": {
      "text/html": [
       "<div>\n",
       "<style scoped>\n",
       "    .dataframe tbody tr th:only-of-type {\n",
       "        vertical-align: middle;\n",
       "    }\n",
       "\n",
       "    .dataframe tbody tr th {\n",
       "        vertical-align: top;\n",
       "    }\n",
       "\n",
       "    .dataframe thead th {\n",
       "        text-align: right;\n",
       "    }\n",
       "</style>\n",
       "<table border=\"1\" class=\"dataframe\">\n",
       "  <thead>\n",
       "    <tr style=\"text-align: right;\">\n",
       "      <th></th>\n",
       "      <th>score</th>\n",
       "      <th>close</th>\n",
       "      <th>return_rate</th>\n",
       "    </tr>\n",
       "  </thead>\n",
       "  <tbody>\n",
       "    <tr>\n",
       "      <th>count</th>\n",
       "      <td>30237.000000</td>\n",
       "      <td>30237.000000</td>\n",
       "      <td>30237.000000</td>\n",
       "    </tr>\n",
       "    <tr>\n",
       "      <th>mean</th>\n",
       "      <td>0.731151</td>\n",
       "      <td>100.004819</td>\n",
       "      <td>0.000359</td>\n",
       "    </tr>\n",
       "    <tr>\n",
       "      <th>std</th>\n",
       "      <td>0.117728</td>\n",
       "      <td>2570.896942</td>\n",
       "      <td>0.020784</td>\n",
       "    </tr>\n",
       "    <tr>\n",
       "      <th>min</th>\n",
       "      <td>0.413554</td>\n",
       "      <td>0.020000</td>\n",
       "      <td>-0.470004</td>\n",
       "    </tr>\n",
       "    <tr>\n",
       "      <th>25%</th>\n",
       "      <td>0.653611</td>\n",
       "      <td>26.097500</td>\n",
       "      <td>-0.008011</td>\n",
       "    </tr>\n",
       "    <tr>\n",
       "      <th>50%</th>\n",
       "      <td>0.741462</td>\n",
       "      <td>44.730000</td>\n",
       "      <td>0.000228</td>\n",
       "    </tr>\n",
       "    <tr>\n",
       "      <th>75%</th>\n",
       "      <td>0.813387</td>\n",
       "      <td>74.300003</td>\n",
       "      <td>0.009173</td>\n",
       "    </tr>\n",
       "    <tr>\n",
       "      <th>max</th>\n",
       "      <td>0.987225</td>\n",
       "      <td>441225.000000</td>\n",
       "      <td>0.470004</td>\n",
       "    </tr>\n",
       "  </tbody>\n",
       "</table>\n",
       "</div>"
      ],
      "text/plain": [
       "              score          close   return_rate\n",
       "count  30237.000000   30237.000000  30237.000000\n",
       "mean       0.731151     100.004819      0.000359\n",
       "std        0.117728    2570.896942      0.020784\n",
       "min        0.413554       0.020000     -0.470004\n",
       "25%        0.653611      26.097500     -0.008011\n",
       "50%        0.741462      44.730000      0.000228\n",
       "75%        0.813387      74.300003      0.009173\n",
       "max        0.987225  441225.000000      0.470004"
      ]
     },
     "execution_count": 10,
     "metadata": {},
     "output_type": "execute_result"
    }
   ],
   "source": [
    "data.describe()"
   ]
  },
  {
   "cell_type": "markdown",
   "id": "b39caceb",
   "metadata": {},
   "source": [
    "There are in total 30 237 observations. The mean score for this dataset is 0,73, mean closing price is 100 and mean return rate is 0,0004."
   ]
  },
  {
   "cell_type": "code",
   "execution_count": 11,
   "id": "81767124",
   "metadata": {},
   "outputs": [
    {
     "data": {
      "text/plain": [
       "SHW     169\n",
       "GEF     140\n",
       "ORLY    138\n",
       "INGR    122\n",
       "GPC     122\n",
       "       ... \n",
       "MRVL      1\n",
       "VCTR      1\n",
       "YELL      1\n",
       "HOV       1\n",
       "VIVO      1\n",
       "Name: symbol, Length: 1330, dtype: int64"
      ]
     },
     "execution_count": 11,
     "metadata": {},
     "output_type": "execute_result"
    }
   ],
   "source": [
    "data.symbol.value_counts()"
   ]
  },
  {
   "cell_type": "markdown",
   "id": "20a81523",
   "metadata": {},
   "source": [
    "There are 1330 companies in total, some of them occur only once in the time series and some even over 100 times. "
   ]
  },
  {
   "cell_type": "markdown",
   "id": "c156c548",
   "metadata": {},
   "source": [
    "### Splitting the data into training and testing sets"
   ]
  },
  {
   "cell_type": "markdown",
   "id": "bf575b7e",
   "metadata": {},
   "source": [
    "Training set involves data from 2010 to 2020 and testing set includes the year 2021.\n"
   ]
  },
  {
   "cell_type": "code",
   "execution_count": 12,
   "id": "b51c51f3",
   "metadata": {},
   "outputs": [
    {
     "name": "stderr",
     "output_type": "stream",
     "text": [
      "<ipython-input-12-e0a87765a94e>:4: FutureWarning: Indexing a DataFrame with a datetimelike index using a single string to slice the rows, like `frame[string]`, is deprecated and will be removed in a future version. Use `frame.loc[string]` instead.\n",
      "  X_test = data['2021'].drop(['symbol','sector','return_rate', 'close'], axis = 1)\n"
     ]
    }
   ],
   "source": [
    "X_train = data['2010':'2020'].drop(['symbol','sector','return_rate', 'close'], axis = 1)\n",
    "y_train = data.loc['2010':'2020', 'return_rate']\n",
    "\n",
    "X_test = data['2021'].drop(['symbol','sector','return_rate', 'close'], axis = 1)\n",
    "y_test = data.loc['2021', 'return_rate']"
   ]
  },
  {
   "cell_type": "code",
   "execution_count": 13,
   "id": "a6e13067",
   "metadata": {},
   "outputs": [
    {
     "data": {
      "text/plain": [
       "[<matplotlib.lines.Line2D at 0x29d7485d160>]"
      ]
     },
     "execution_count": 13,
     "metadata": {},
     "output_type": "execute_result"
    },
    {
     "data": {
      "image/png": "[encoded data removed]",
      "text/plain": [
       "<Figure size 864x432 with 1 Axes>"
      ]
     },
     "metadata": {
      "needs_background": "light"
     },
     "output_type": "display_data"
    }
   ],
   "source": [
    "fig, ax=plt.subplots(figsize=(12, 6))\n",
    "\n",
    "plt.plot(y_train, color = \"black\")\n",
    "plt.plot(y_test, color = \"red\")"
   ]
  },
  {
   "cell_type": "code",
   "execution_count": 14,
   "id": "5ea82cab",
   "metadata": {},
   "outputs": [
    {
     "name": "stdout",
     "output_type": "stream",
     "text": [
      "Number transactions X_train dataset:  (19498, 1)\n",
      "Number transactions y_train dataset:  (19498,)\n",
      "Number transactions X_test dataset:  (2045, 1)\n",
      "Number transactions y_test dataset:  (2045,)\n"
     ]
    }
   ],
   "source": [
    "print(\"Number transactions X_train dataset: \", X_train.shape)\n",
    "print(\"Number transactions y_train dataset: \", y_train.shape)\n",
    "print(\"Number transactions X_test dataset: \", X_test.shape)\n",
    "print(\"Number transactions y_test dataset: \", y_test.shape)"
   ]
  },
  {
   "cell_type": "markdown",
   "id": "e36d3cb6",
   "metadata": {},
   "source": [
    "### Dummy regression"
   ]
  },
  {
   "cell_type": "code",
   "execution_count": 15,
   "id": "3c9d951f",
   "metadata": {},
   "outputs": [],
   "source": [
    "from sklearn.dummy import DummyRegressor"
   ]
  },
  {
   "cell_type": "code",
   "execution_count": 16,
   "id": "f444b71d",
   "metadata": {},
   "outputs": [
    {
     "name": "stdout",
     "output_type": "stream",
     "text": [
      "Coefficient of determination: 0.0\n"
     ]
    }
   ],
   "source": [
    "# train model\n",
    "reg_dummy = DummyRegressor(strategy = 'mean').fit(X_train, y_train) \n",
    "\n",
    "print('Coefficient of determination:', reg_dummy.score(X_train, y_train))"
   ]
  },
  {
   "cell_type": "markdown",
   "id": "af06db64",
   "metadata": {},
   "source": [
    "0% represents a model that does not explain any of the variation in the response variable around its mean."
   ]
  },
  {
   "cell_type": "code",
   "execution_count": 17,
   "id": "08509c42",
   "metadata": {},
   "outputs": [
    {
     "name": "stdout",
     "output_type": "stream",
     "text": [
      "Coefficient of determination (R2): -0.00043\n",
      "Mean absolute error (MAE): 0.01345\n",
      "Residual sum of squares (MSE): 0.00038\n",
      "Root mean squared error (RMSE): 0.01952\n"
     ]
    }
   ],
   "source": [
    "# predict & evaluate\n",
    "y_pred_dum = reg_dummy.predict(X_test)\n",
    "\n",
    "print(\"Coefficient of determination (R2): %.5f\" % r2_score(y_test , y_pred_dum) )\n",
    "print(\"Mean absolute error (MAE): %.5f\" % np.mean(np.absolute(y_pred_dum - y_test)))\n",
    "print(\"Residual sum of squares (MSE): %.5f\" % mean_squared_error(y_test, y_pred_dum))\n",
    "print(\"Root mean squared error (RMSE): %.5f\" % np.sqrt(metrics.mean_squared_error(y_test, y_pred_dum)))"
   ]
  },
  {
   "cell_type": "markdown",
   "id": "dd681370",
   "metadata": {},
   "source": [
    "### Linear regression"
   ]
  },
  {
   "cell_type": "code",
   "execution_count": 18,
   "id": "f990dccb",
   "metadata": {},
   "outputs": [
    {
     "name": "stdout",
     "output_type": "stream",
     "text": [
      "Coefficient of determination: 0.002063735575619896\n",
      "Intercept: 0.005969336426938953\n",
      "Slope: [-0.00769272]\n"
     ]
    }
   ],
   "source": [
    "from sklearn import metrics\n",
    "\n",
    "# train model\n",
    "lm = LinearRegression().fit(X_train, y_train)\n",
    "\n",
    "print('Coefficient of determination:', lm.score(X_train, y_train))\n",
    "print('Intercept:', lm.intercept_)\n",
    "print('Slope:', lm.coef_)"
   ]
  },
  {
   "cell_type": "markdown",
   "id": "006e813f",
   "metadata": {},
   "source": [
    "f(x) = b₁x + b₀\n",
    "\n",
    "f(x) = - 0.008x + 0.006\n",
    "\n",
    "𝑅² = 0.0021\n",
    "\n",
    "Model explains only 0.0021 of the variation in the response variable around its mean."
   ]
  },
  {
   "cell_type": "markdown",
   "id": "0192f8b1",
   "metadata": {},
   "source": [
    "**Measure of fit of a model**"
   ]
  },
  {
   "cell_type": "code",
   "execution_count": 19,
   "id": "9921950c",
   "metadata": {},
   "outputs": [
    {
     "name": "stdout",
     "output_type": "stream",
     "text": [
      "predicted response:\n",
      "[-0.00109287 -0.00096759 -0.00092766 ...  0.00049922  0.00050799\n",
      "  0.00051727]\n",
      "Coefficient of determination (R2): -0.00584\n",
      "Mean absolute error (MAE): 0.01353\n",
      "Residual sum of squares (MSE): 0.00038\n",
      "Root mean squared error (RMSE): 0.01957\n"
     ]
    }
   ],
   "source": [
    "# predict & evaluate\n",
    "y_pred = lm.predict(X_test)\n",
    "\n",
    "print('predicted response:', y_pred, sep='\\n')\n",
    "\n",
    "print(\"Coefficient of determination (R2): %.5f\" % r2_score(y_test , y_pred) )\n",
    "print(\"Mean absolute error (MAE): %.5f\" % np.mean(np.absolute(y_pred - y_test)))\n",
    "print(\"Residual sum of squares (MSE): %.5f\" % mean_squared_error(y_test, y_pred))\n",
    "print(\"Root mean squared error (RMSE): %.5f\" % np.sqrt(metrics.mean_squared_error(y_test, y_pred)))"
   ]
  },
  {
   "cell_type": "markdown",
   "id": "1dddff04",
   "metadata": {},
   "source": [
    "Adjusted R squared  is adjusted for the number of independent variables in the model and equal -0.00584 (adjusted  R² will always be less than or equal to R²).\n",
    "\n",
    "The average of the residuals equal 0.01353\n",
    "\n",
    "The variance of the residuals equal 0.00038\n",
    "\n",
    "The standard deviation of residuals equal 0.01957"
   ]
  },
  {
   "cell_type": "markdown",
   "id": "ef559d04",
   "metadata": {},
   "source": [
    "### Comparison between dummy regression and linear regression in combination with observations from test set."
   ]
  },
  {
   "cell_type": "code",
   "execution_count": 20,
   "id": "c5393d44",
   "metadata": {},
   "outputs": [
    {
     "data": {
      "text/plain": [
       "<matplotlib.legend.Legend at 0x29d74a13dc0>"
      ]
     },
     "execution_count": 20,
     "metadata": {},
     "output_type": "execute_result"
    },
    {
     "data": {
      "image/png": "[encoded data removed]",
      "text/plain": [
       "<Figure size 1080x360 with 1 Axes>"
      ]
     },
     "metadata": {
      "needs_background": "light"
     },
     "output_type": "display_data"
    }
   ],
   "source": [
    "fig, ax=plt.subplots(figsize=(15, 5))\n",
    "\n",
    "plt.scatter(X_test, y_test,  color='black')\n",
    "plt.plot(X_test, y_pred, color='red', linewidth=3, label='Linear regression')\n",
    "plt.plot(X_test, y_pred_dum, color='blue', linestyle = 'dashed', linewidth=2, label = 'Dummy regression')\n",
    "ax.legend()"
   ]
  },
  {
   "cell_type": "markdown",
   "id": "becfcf06",
   "metadata": {},
   "source": [
    "Model does not explain any of the variation in the response variable around its mean.\n",
    "\n",
    "Linear regression is marginally better than dummy regression.\n",
    "\n",
    "Both models are not well fit."
   ]
  }
 ],
 "metadata": {
  "kernelspec": {
   "display_name": "Python 3",
   "language": "python",
   "name": "python3"
  },
  "language_info": {
   "codemirror_mode": {
    "name": "ipython",
    "version": 3
   },
   "file_extension": ".py",
   "mimetype": "text/x-python",
   "name": "python",
   "nbconvert_exporter": "python",
   "pygments_lexer": "ipython3",
   "version": "3.8.8"
  }
 },
 "nbformat": 4,
 "nbformat_minor": 5
}
